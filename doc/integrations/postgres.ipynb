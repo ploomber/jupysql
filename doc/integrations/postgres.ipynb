{
 "cells": [
  {
   "cell_type": "markdown",
   "id": "aaccac0c",
   "metadata": {},
   "source": [
    "# PostgreSQL Integration Test Tutorial\n",
    "\n",
    "This tutorial will guide you through the process of running PostgreSQL integration tests. "
   ]
  },
  {
   "cell_type": "markdown",
   "id": "9a14e870",
   "metadata": {},
   "source": [
    "## Installing Dependencies\n",
    "\n",
    "Before running the PostgreSQL integration tests, we need to install the following dependencies:\n",
    "\n",
    "- `dockerctx` is a package that provides a convenient interface to manage Docker containers."
   ]
  },
  {
   "cell_type": "code",
   "execution_count": null,
   "id": "fcfa3817",
   "metadata": {},
   "outputs": [],
   "source": [
    "%pip install jupysql sqlalchemy pandas matplotlib pgspecial ploomber_core sqlglot jinja2 jupysql psycopg2-binary dockerctx --quiet"
   ]
  },
  {
   "cell_type": "markdown",
   "id": "ed52ee9b",
   "metadata": {},
   "source": [
    "Note: you may need to restart the kernel to use updated packages.\n",
    "```{Tip}\n",
    "  pg_config is required to build psycopg2 from source \n",
    "  If you prefer to avoid, please install the PyPI 'psycopg2-binary' package instead.\n",
    "```"
   ]
  },
  {
   "cell_type": "markdown",
   "id": "a38d3394",
   "metadata": {},
   "source": [
    "```{Tip}\n",
    "    If you encounter pip Docker-related issues due to old versioning, it is recommended to install Docker using the official installer. (https://docs.docker.com/engine/install/)\n",
    "Make sure the path is also set properly.\n",
    "```"
   ]
  },
  {
   "cell_type": "markdown",
   "id": "21c6b60e",
   "metadata": {},
   "source": [
    "- `psycopg2` is a PostgreSQL adapter enabling python programs to interact with a PostgreSQL database.\n",
    "- `pgspecial` package provides enhanced functionality for working with PostgreSQL databases, such as improved command-line interface (CLI) support etc."
   ]
  },
  {
   "cell_type": "markdown",
   "id": "d08ece3a",
   "metadata": {},
   "source": [
    "```{tip}\n",
    "If you have issues [message us on Slack.](https://ploomber.io/community)\n",
    "```"
   ]
  },
  {
   "cell_type": "markdown",
   "id": "d6581740",
   "metadata": {},
   "source": [
    "## Running PostgreSQL Integration Tests"
   ]
  },
  {
   "cell_type": "markdown",
   "id": "e2585545",
   "metadata": {},
   "source": [
    "### Set Up the Test Environment"
   ]
  },
  {
   "cell_type": "markdown",
   "id": "1859c76d",
   "metadata": {},
   "source": [
    "Before running the tests, ensure that you have a PostgreSQL database available. \n",
    "Make sure Docker is installed and running to start the PostgreSQL Integration Test.\n",
    "You can either use an existing PostgreSQL instance or create a new one using Docker. \n",
    "```{More}\n",
    "PostgreSQL setup (https://jupysql.ploomber.io/en/latest/integrations/postgres-connect.html)\n",
    "``` "
   ]
  },
  {
   "cell_type": "code",
   "execution_count": null,
   "id": "b84a7cac",
   "metadata": {},
   "outputs": [],
   "source": [
    "To create a new PostgreSQL instance using Docker, run the following command in your terminal:"
   ]
  },
  {
   "cell_type": "code",
   "execution_count": null,
   "id": "585d6b3f",
   "metadata": {},
   "outputs": [],
   "source": [
    "%%bash\n",
    "docker run --name postgres -e POSTGRES_DB=db \\\n",
    "  -e POSTGRES_USER=user \\\n",
    "  -e POSTGRES_PASSWORD=password \\\n",
    "  -p 5432:5432 -d postgres"
   ]
  },
  {
   "cell_type": "markdown",
   "id": "54decf16",
   "metadata": {},
   "source": [
    "This command will create a new PostgreSQL container named ```my-postgres``` with the password ```mysecretpassword```. It will be accessible on port ```5432```."
   ]
  },
  {
   "cell_type": "markdown",
   "id": "693434e1",
   "metadata": {},
   "source": [
    "### Running the Tests\n",
    "And in conftest.py we should ensure that by the time the test is running, an instance of each of the tested databases is also running.\n",
    "<br> To run the PostgreSQL integration tests, execute the following command in your terminal:"
   ]
  },
  {
   "cell_type": "code",
   "execution_count": null,
   "id": "f38367ee",
   "metadata": {},
   "outputs": [],
   "source": [
    "%pytest src/tests/integration/test_postgreSQL.py  "
   ]
  },
  {
   "cell_type": "markdown",
   "id": "2a48a153",
   "metadata": {},
   "source": [
    "```{Tip}\n",
    "If you face the issue of sql module being not recognized within folder \n",
    "sys.path.insert(1, os.path.abspath(os.path.join(os.path.dirname(__file__), \"..\"))) feel free to use this in conftest.py.\n",
    "```\n",
    "\n"
   ]
  },
  {
   "cell_type": "markdown",
   "id": "3e241d27",
   "metadata": {},
   "source": [
    "```{Tips}\n",
    "Docker Error: docker.errors.DockerException: Error while fetching server API version: ('Connection aborted.', FileNotFoundError(2, 'No such file or directory'))\n",
    "```\n",
    "This error typically occurs when the Docker daemon is not running."
   ]
  },
  {
   "cell_type": "markdown",
   "id": "44114c2a",
   "metadata": {},
   "source": [
    "Once the Docker daemon is running, you should be able to proceed with running the PostgreSQL integration tests."
   ]
  },
  {
   "cell_type": "markdown",
   "id": "d477fed0",
   "metadata": {},
   "source": [
    "Note: This command will execute the test_postgreSQL.py file, which contains the PostgreSQL-specific integration tests.\n",
    "Note: We should ensure that by the time the test is running, an instance of each of the tested databases is also running.\n",
    "\n",
    "```{tip}\n",
    "Make sure you have all the imports in place and paths are set else let us know if you have issues [message us on Slack.](https://ploomber.io/community)\n",
    "```"
   ]
  },
  {
   "cell_type": "markdown",
   "id": "42349e2d",
   "metadata": {},
   "source": [
    "To skip the tests from test_generic_db_operations.py and only run the PostgreSQL tests, you can locally add the following snippet to each function and use the following command:\n",
    "\n",
    "```{Tip}\n",
    "Check if ip_with_dynamic_db is equal to request.param\n",
    "if [[ $ip_with_dynamic_db != $request_param ]]; then\n",
    "    pytest.skip \"Skipping test for $ip_with_dynamic_db\"\n",
    "    return\n",
    "fi\n",
    "```\n",
    "add this before the functions you want to execute."
   ]
  },
  {
   "cell_type": "code",
   "execution_count": null,
   "id": "40eb5bf2",
   "metadata": {},
   "outputs": [],
   "source": [
    "%pytest -m ip_with_postgreSQL src/tests/integration/test_generic_db_operations.py "
   ]
  },
  {
   "cell_type": "markdown",
   "id": "08888580",
   "metadata": {},
   "source": [
    "```{tip} If you have issues [message us on Slack.](https://ploomber.io/community) ```"
   ]
  }
 ],
 "metadata": {
  "kernelspec": {
   "display_name": "Bash",
   "language": "bash",
   "name": "bash"
  },
  "language_info": {
   "codemirror_mode": "shell",
   "file_extension": ".sh",
   "mimetype": "text/x-sh",
   "name": "bash"
  }
 },
 "nbformat": 4,
 "nbformat_minor": 5
}
