{
 "cells": [
  {
   "cell_type": "markdown",
   "id": "aaccac0c",
   "metadata": {},
   "source": [
    "# PostgreSQL Integration Test Tutorial\n",
    "\n",
    "This tutorial will guide you through the process of running PostgreSQL integration tests. "
   ]
  },
  {
   "cell_type": "markdown",
   "id": "9a14e870",
   "metadata": {},
   "source": [
    "## Installing Dependencies\n",
    "\n",
    "Before running the PostgreSQL integration tests, we need to install the following dependencies:\n",
    "\n",
    "- `dockerctx` is a package that provides a convenient interface to manage Docker containers."
   ]
  },
  {
   "cell_type": "code",
   "execution_count": null,
   "id": "9821bbd0",
   "metadata": {},
   "outputs": [],
   "source": [
    "conda create --name ploomber -y"
   ]
  },
  {
   "cell_type": "code",
   "execution_count": null,
   "id": "2096ef51",
   "metadata": {},
   "outputs": [],
   "source": [
    "conda activate ploomber"
   ]
  },
  {
   "cell_type": "code",
   "execution_count": null,
   "id": "dffa8b15",
   "metadata": {},
   "outputs": [],
   "source": [
    "conda install pip"
   ]
  },
  {
   "cell_type": "code",
   "execution_count": null,
   "id": "03c91d95",
   "metadata": {},
   "outputs": [],
   "source": [
    "pip install pytest jupysql pyarrow pgspecial==2.0.1 sqlalchemy pandas matplotlib ploomber_core sqlglot jinja2 dockerctx"
   ]
  },
  {
   "cell_type": "markdown",
   "id": "ed52ee9b",
   "metadata": {},
   "source": [
    "Note: you may need to restart the kernel to use updated packages."
   ]
  },
  {
   "cell_type": "markdown",
   "id": "a38d3394",
   "metadata": {},
   "source": [
    "If you encounter Docker-related issues due to old versioning, it is recommended to [install latest Docker.](https://docs.docker.com/engine/install/) using the official installer.\n",
    "\n"
   ]
  },
  {
   "cell_type": "markdown",
   "id": "21c6b60e",
   "metadata": {},
   "source": [
    "- `pgspecial` package provides enhanced functionality for working with PostgreSQL databases, such as improved command-line interface (CLI) support etc.\n",
    "- `pgspecial==2.0.1` is added to the above line to maximize compatibility with the jupysql package and has better result readouts."
   ]
  },
  {
   "cell_type": "markdown",
   "id": "d08ece3a",
   "metadata": {},
   "source": [
    "```{tip}\n",
    "If you have issues [message us on Slack.](https://ploomber.io/community)\n",
    "```"
   ]
  },
  {
   "cell_type": "markdown",
   "id": "d6581740",
   "metadata": {},
   "source": [
    "## Running PostgreSQL Integration Tests"
   ]
  },
  {
   "cell_type": "markdown",
   "id": "693434e1",
   "metadata": {},
   "source": [
    "To run the PostgreSQL integration tests, execute the following command in your terminal:"
   ]
  },
  {
   "cell_type": "code",
   "execution_count": null,
   "id": "f38367ee",
   "metadata": {},
   "outputs": [],
   "source": [
    "pytest -x src/tests/integration/test_postgreSQL.py  "
   ]
  },
  {
   "cell_type": "markdown",
   "id": "944c80e1",
   "metadata": {},
   "source": [
    "Verify that postgres is running and is ready to accept new connections in the docker terminal. After this if everything goes well it will show 3 passed testcases. "
   ]
  },
  {
   "cell_type": "markdown",
   "id": "74fb3ae2",
   "metadata": {},
   "source": [
    "### Possible Errors"
   ]
  },
  {
   "cell_type": "markdown",
   "id": "2a48a153",
   "metadata": {},
   "source": [
    "If you face the issue of sql module being not recognized within folder make sure to include it's path in conftest.py."
   ]
  },
  {
   "cell_type": "markdown",
   "id": "3e241d27",
   "metadata": {},
   "source": [
    "```{Tip}\n",
    "Docker Error: docker.errors.DockerException: Error while fetching server API version: ('Connection aborted.', FileNotFoundError(2, 'No such file or directory'))\n",
    "```\n",
    "This error typically occurs when the Docker daemon is not running."
   ]
  },
  {
   "cell_type": "markdown",
   "id": "44114c2a",
   "metadata": {},
   "source": [
    "Once the Docker daemon is running, you should be able to proceed with running the PostgreSQL integration tests."
   ]
  },
  {
   "cell_type": "markdown",
   "id": "d477fed0",
   "metadata": {},
   "source": [
    "Note: This command will execute the test_postgreSQL.py file, which contains the PostgreSQL-specific integration tests.\n",
    "<br>Note: We should ensure that by the time the test is running, an instance of each of the tested databases is also running.\n",
    "<br>\n",
    "Note: that if you're running pytest with multiple test files or directories, the -x option will stop the test run as soon as the first failure is encountered across any of the specified files or directories.\n",
    "\n",
    "```{Tip}\n",
    "Make sure you have all the imports in place and are of same version as above (Look at setup.py in repo) otherwise let us know if you have issues [message us on Slack.](https://ploomber.io/community)\n",
    "```"
   ]
  },
  {
   "cell_type": "markdown",
   "id": "42349e2d",
   "metadata": {},
   "source": [
    "To skip the tests from test_generic_db_operations.py and only run the PostgreSQL tests, you can run the below script."
   ]
  },
  {
   "cell_type": "code",
   "execution_count": null,
   "id": "40eb5bf2",
   "metadata": {},
   "outputs": [],
   "source": [
    "pytest -x src/tests/integration/test_generic_db_operations.py -k \"ip_with_postgreSQL\""
   ]
  },
  {
   "cell_type": "markdown",
   "id": "08888580",
   "metadata": {},
   "source": [
    "```{tip} If you have issues [message us on Slack.](https://ploomber.io/community) ```"
   ]
  }
 ],
 "metadata": {
  "kernelspec": {
   "display_name": "Bash",
   "language": "bash",
   "name": "bash"
  },
  "language_info": {
   "codemirror_mode": "shell",
   "file_extension": ".sh",
   "mimetype": "text/x-sh",
   "name": "bash"
  }
 },
 "nbformat": 4,
 "nbformat_minor": 5
}
