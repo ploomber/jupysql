{
    "cells": [
        {
            "cell_type": "markdown",
            "id": "8a26f191",
            "metadata": {},
            "source": [
                "# Snowflake\n",
                "\n",
                "```{important}\n",
                "`snowflake-sqlalchemy` requires SQLAlchemy 1.x (as of version 1.4.7 )\n",
                "```\n",
                "\n",
                "`Snowflake` is a cloud-based data warehousing platform that provides organizations with a powerful and flexible solution for storing, managing, and analyzing large amounts of data. Unlike traditional data warehouses, Snowflake operates entirely in the cloud, utilizing a distributed architecture that allows it to process and store data across multiple computing resources. \n",
                "\n",
                "In this guide, we'll demonstrate how to integrate with Snowflake using JupySQL magics.\n",
                "\n",
                "```{tip}\n",
                "If you encounter any issues, feel free to join our [community](https://ploomber.io/community) and we'll be happy to help!\n",
                "```"
            ]
        },
        {
            "cell_type": "markdown",
            "id": "14dc32cc",
            "metadata": {},
            "source": [
                "## Pre-requisites\n",
                "\n",
                "We will need the `snowflake-sqlalchemy` package for connecting to the warehouse."
            ]
        },
        {
            "cell_type": "code",
            "execution_count": 1,
            "id": "ac2a4ee0",
            "metadata": {},
            "outputs": [
                {
                    "name": "stdout",
                    "output_type": "stream",
                    "text": [
                        "Note: you may need to restart the kernel to use updated packages.\n"
                    ]
                }
            ],
            "source": [
                "%pip install --upgrade snowflake-sqlalchemy 'sqlalchemy<2' --quiet"
            ]
        },
        {
            "cell_type": "markdown",
            "id": "4629c09b",
            "metadata": {},
            "source": [
                "Now let's define the URL connection parameters and create an `Engine` object."
            ]
        },
        {
            "cell_type": "code",
            "execution_count": 17,
            "id": "b824fb60",
            "metadata": {},
            "outputs": [],
            "source": [
                "from sqlalchemy import create_engine\n",
                "from snowflake.sqlalchemy import URL\n",
                "\n",
                "\n",
                "engine = create_engine(\n",
                "    URL(\n",
                "        drivername=\"driver\",\n",
                "        user=\"user\",\n",
                "        password=\"password\",\n",
                "        account=\"account\",\n",
                "        database=\"database\",\n",
                "        role=\"role\",\n",
                "        schema=\"schema\",\n",
                "        warehouse=\"warehouse\",\n",
                "    )\n",
                ")"
            ]
        },
        {
            "cell_type": "markdown",
            "id": "7853cb8d",
            "metadata": {},
            "source": [
                "## Load sample data\n",
                "\n",
                "Now, let's load the `penguins` dataset. We'll convert this `.csv` file to a dataframe and create a table in Snowflake database from the data."
            ]
        },
        {
            "cell_type": "code",
            "execution_count": 3,
            "id": "09b2ac9e",
            "metadata": {},
            "outputs": [
                {
                    "data": {
                        "text/plain": [
                            "('penguins.csv', <http.client.HTTPMessage at 0x12ea1f100>)"
                        ]
                    },
                    "execution_count": 3,
                    "metadata": {},
                    "output_type": "execute_result"
                }
            ],
            "source": [
                "import urllib.request\n",
                "\n",
                "urllib.request.urlretrieve(\n",
                "    \"https://raw.githubusercontent.com/mwaskom/seaborn-data/master/penguins.csv\",\n",
                "    \"penguins.csv\",\n",
                ")"
            ]
        },
        {
            "cell_type": "code",
            "execution_count": 4,
            "id": "65ff0181",
            "metadata": {},
            "outputs": [],
            "source": [
                "%load_ext sql"
            ]
        },
        {
            "cell_type": "code",
            "execution_count": 5,
            "id": "803c43e4",
            "metadata": {},
            "outputs": [],
            "source": [
                "%sql engine --alias connection"
            ]
        },
        {
            "cell_type": "code",
            "execution_count": 6,
            "id": "3e364576",
            "metadata": {},
            "outputs": [
                {
                    "data": {
                        "text/plain": [
                            "344"
                        ]
                    },
                    "execution_count": 6,
                    "metadata": {},
                    "output_type": "execute_result"
                }
            ],
            "source": [
                "import pandas as pd\n",
                "\n",
                "df = pd.read_csv(\"penguins.csv\")\n",
                "connection = engine.connect()\n",
                "df.to_sql(name=\"penguins\", con=connection, index=False, if_exists=\"replace\")"
            ]
        },
        {
            "cell_type": "markdown",
            "id": "747f5239",
            "metadata": {},
            "source": [
                "## Query"
            ]
        },
        {
            "cell_type": "markdown",
            "id": "494cbab2-a241-4e91-ae94-4ad6cb74c8ec",
            "metadata": {},
            "source": [
                "List the tables in the database:"
            ]
        },
        {
            "cell_type": "code",
            "execution_count": 7,
            "id": "23aa0941",
            "metadata": {},
            "outputs": [
                {
                    "data": {
                        "text/html": [
                            "<table>\n",
                            "    <thead>\n",
                            "        <tr>\n",
                            "            <th>Name</th>\n",
                            "        </tr>\n",
                            "    </thead>\n",
                            "    <tbody>\n",
                            "        <tr>\n",
                            "            <td>penguins</td>\n",
                            "        </tr>\n",
                            "    </tbody>\n",
                            "</table>"
                        ],
                        "text/plain": [
                            "+----------+\n",
                            "|   Name   |\n",
                            "+----------+\n",
                            "| penguins |\n",
                            "+----------+"
                        ]
                    },
                    "execution_count": 7,
                    "metadata": {},
                    "output_type": "execute_result"
                }
            ],
            "source": [
                "%sqlcmd tables"
            ]
        },
        {
            "cell_type": "markdown",
            "id": "a1936edd-342e-476d-ae83-ab00749daa9b",
            "metadata": {},
            "source": [
                "List columns in the penguins table:"
            ]
        },
        {
            "cell_type": "code",
            "execution_count": 8,
            "id": "1397fbb6",
            "metadata": {},
            "outputs": [
                {
                    "data": {
                        "text/html": [
                            "<table>\n",
                            "    <thead>\n",
                            "        <tr>\n",
                            "            <th>name</th>\n",
                            "            <th>type</th>\n",
                            "            <th>nullable</th>\n",
                            "            <th>default</th>\n",
                            "            <th>autoincrement</th>\n",
                            "            <th>comment</th>\n",
                            "            <th>primary_key</th>\n",
                            "        </tr>\n",
                            "    </thead>\n",
                            "    <tbody>\n",
                            "        <tr>\n",
                            "            <td>species</td>\n",
                            "            <td>VARCHAR(16777216)</td>\n",
                            "            <td>True</td>\n",
                            "            <td>None</td>\n",
                            "            <td>False</td>\n",
                            "            <td>None</td>\n",
                            "            <td>False</td>\n",
                            "        </tr>\n",
                            "        <tr>\n",
                            "            <td>island</td>\n",
                            "            <td>VARCHAR(16777216)</td>\n",
                            "            <td>True</td>\n",
                            "            <td>None</td>\n",
                            "            <td>False</td>\n",
                            "            <td>None</td>\n",
                            "            <td>False</td>\n",
                            "        </tr>\n",
                            "        <tr>\n",
                            "            <td>bill_length_mm</td>\n",
                            "            <td>FLOAT</td>\n",
                            "            <td>True</td>\n",
                            "            <td>None</td>\n",
                            "            <td>False</td>\n",
                            "            <td>None</td>\n",
                            "            <td>False</td>\n",
                            "        </tr>\n",
                            "        <tr>\n",
                            "            <td>bill_depth_mm</td>\n",
                            "            <td>FLOAT</td>\n",
                            "            <td>True</td>\n",
                            "            <td>None</td>\n",
                            "            <td>False</td>\n",
                            "            <td>None</td>\n",
                            "            <td>False</td>\n",
                            "        </tr>\n",
                            "        <tr>\n",
                            "            <td>flipper_length_mm</td>\n",
                            "            <td>FLOAT</td>\n",
                            "            <td>True</td>\n",
                            "            <td>None</td>\n",
                            "            <td>False</td>\n",
                            "            <td>None</td>\n",
                            "            <td>False</td>\n",
                            "        </tr>\n",
                            "        <tr>\n",
                            "            <td>body_mass_g</td>\n",
                            "            <td>FLOAT</td>\n",
                            "            <td>True</td>\n",
                            "            <td>None</td>\n",
                            "            <td>False</td>\n",
                            "            <td>None</td>\n",
                            "            <td>False</td>\n",
                            "        </tr>\n",
                            "        <tr>\n",
                            "            <td>sex</td>\n",
                            "            <td>VARCHAR(16777216)</td>\n",
                            "            <td>True</td>\n",
                            "            <td>None</td>\n",
                            "            <td>False</td>\n",
                            "            <td>None</td>\n",
                            "            <td>False</td>\n",
                            "        </tr>\n",
                            "    </tbody>\n",
                            "</table>"
                        ],
                        "text/plain": [
                            "+-------------------+-------------------+----------+---------+---------------+---------+-------------+\n",
                            "|        name       |        type       | nullable | default | autoincrement | comment | primary_key |\n",
                            "+-------------------+-------------------+----------+---------+---------------+---------+-------------+\n",
                            "|      species      | VARCHAR(16777216) |   True   |   None  |     False     |   None  |    False    |\n",
                            "|       island      | VARCHAR(16777216) |   True   |   None  |     False     |   None  |    False    |\n",
                            "|   bill_length_mm  |       FLOAT       |   True   |   None  |     False     |   None  |    False    |\n",
                            "|   bill_depth_mm   |       FLOAT       |   True   |   None  |     False     |   None  |    False    |\n",
                            "| flipper_length_mm |       FLOAT       |   True   |   None  |     False     |   None  |    False    |\n",
                            "|    body_mass_g    |       FLOAT       |   True   |   None  |     False     |   None  |    False    |\n",
                            "|        sex        | VARCHAR(16777216) |   True   |   None  |     False     |   None  |    False    |\n",
                            "+-------------------+-------------------+----------+---------+---------------+---------+-------------+"
                        ]
                    },
                    "execution_count": 8,
                    "metadata": {},
                    "output_type": "execute_result"
                }
            ],
            "source": [
                "%sqlcmd columns --table penguins"
            ]
        },
        {
            "cell_type": "markdown",
            "id": "831ca098-a0f7-419b-ae96-b2c8b5026be6",
            "metadata": {},
            "source": [
                "Query our data:"
            ]
        },
        {
            "cell_type": "code",
            "execution_count": 9,
            "id": "8f92b0f7",
            "metadata": {},
            "outputs": [
                {
                    "data": {
                        "text/html": [
                            "<span style=\"None\">Running query in &#x27;connection&#x27;</span>"
                        ],
                        "text/plain": [
                            "Running query in 'connection'"
                        ]
                    },
                    "metadata": {},
                    "output_type": "display_data"
                },
                {
                    "data": {
                        "text/html": [
                            "<span style=\"color: green\">1 rows affected.</span>"
                        ],
                        "text/plain": [
                            "1 rows affected."
                        ]
                    },
                    "metadata": {},
                    "output_type": "display_data"
                },
                {
                    "data": {
                        "text/html": [
                            "<table>\n",
                            "    <thead>\n",
                            "        <tr>\n",
                            "            <th>COUNT(*)</th>\n",
                            "        </tr>\n",
                            "    </thead>\n",
                            "    <tbody>\n",
                            "        <tr>\n",
                            "            <td>344</td>\n",
                            "        </tr>\n",
                            "    </tbody>\n",
                            "</table>"
                        ],
                        "text/plain": [
                            "+----------+\n",
                            "| COUNT(*) |\n",
                            "+----------+\n",
                            "|   344    |\n",
                            "+----------+"
                        ]
                    },
                    "execution_count": 9,
                    "metadata": {},
                    "output_type": "execute_result"
                }
            ],
            "source": [
                "%%sql\n",
                "SELECT COUNT(*) FROM penguins "
            ]
        },
        {
            "cell_type": "code",
            "execution_count": 10,
            "id": "082c9090",
            "metadata": {},
            "outputs": [
                {
                    "data": {
                        "text/html": [
                            "<span style=\"None\">Running query in &#x27;connection&#x27;</span>"
                        ],
                        "text/plain": [
                            "Running query in 'connection'"
                        ]
                    },
                    "metadata": {},
                    "output_type": "display_data"
                },
                {
                    "data": {
                        "text/html": [
                            "<span style=\"color: green\">3 rows affected.</span>"
                        ],
                        "text/plain": [
                            "3 rows affected."
                        ]
                    },
                    "metadata": {},
                    "output_type": "display_data"
                },
                {
                    "data": {
                        "text/html": [
                            "<table>\n",
                            "    <thead>\n",
                            "        <tr>\n",
                            "            <th>species</th>\n",
                            "            <th>count</th>\n",
                            "        </tr>\n",
                            "    </thead>\n",
                            "    <tbody>\n",
                            "        <tr>\n",
                            "            <td>Adelie</td>\n",
                            "            <td>152</td>\n",
                            "        </tr>\n",
                            "        <tr>\n",
                            "            <td>Gentoo</td>\n",
                            "            <td>124</td>\n",
                            "        </tr>\n",
                            "        <tr>\n",
                            "            <td>Chinstrap</td>\n",
                            "            <td>68</td>\n",
                            "        </tr>\n",
                            "    </tbody>\n",
                            "</table>"
                        ],
                        "text/plain": [
                            "+-----------+-------+\n",
                            "|  species  | count |\n",
                            "+-----------+-------+\n",
                            "|   Adelie  |  152  |\n",
                            "|   Gentoo  |  124  |\n",
                            "| Chinstrap |   68  |\n",
                            "+-----------+-------+"
                        ]
                    },
                    "execution_count": 10,
                    "metadata": {},
                    "output_type": "execute_result"
                }
            ],
            "source": [
                "%%sql\n",
                "SELECT species, COUNT(*) AS count\n",
                "FROM penguins\n",
                "GROUP BY species\n",
                "ORDER BY count DESC"
            ]
        },
        {
            "cell_type": "markdown",
            "id": "972cf9e5",
            "metadata": {},
            "source": [
                "## Parametrize queries\n",
                "\n",
                "JupySQL supports variable expansion in this format: `{{variable}}`."
            ]
        },
        {
            "cell_type": "code",
            "execution_count": 14,
            "id": "f3bad484",
            "metadata": {},
            "outputs": [],
            "source": [
                "dynamic_limit = 5\n",
                "dynamic_column = \"island, sex\""
            ]
        },
        {
            "cell_type": "code",
            "execution_count": 15,
            "id": "aa7319e8",
            "metadata": {},
            "outputs": [
                {
                    "data": {
                        "text/html": [
                            "<span style=\"None\">Running query in &#x27;connection&#x27;</span>"
                        ],
                        "text/plain": [
                            "Running query in 'connection'"
                        ]
                    },
                    "metadata": {},
                    "output_type": "display_data"
                },
                {
                    "data": {
                        "text/html": [
                            "<span style=\"color: green\">5 rows affected.</span>"
                        ],
                        "text/plain": [
                            "5 rows affected."
                        ]
                    },
                    "metadata": {},
                    "output_type": "display_data"
                },
                {
                    "data": {
                        "text/html": [
                            "<table>\n",
                            "    <thead>\n",
                            "        <tr>\n",
                            "            <th>island</th>\n",
                            "            <th>sex</th>\n",
                            "        </tr>\n",
                            "    </thead>\n",
                            "    <tbody>\n",
                            "        <tr>\n",
                            "            <td>Torgersen</td>\n",
                            "            <td>MALE</td>\n",
                            "        </tr>\n",
                            "        <tr>\n",
                            "            <td>Torgersen</td>\n",
                            "            <td>FEMALE</td>\n",
                            "        </tr>\n",
                            "        <tr>\n",
                            "            <td>Torgersen</td>\n",
                            "            <td>FEMALE</td>\n",
                            "        </tr>\n",
                            "        <tr>\n",
                            "            <td>Torgersen</td>\n",
                            "            <td>None</td>\n",
                            "        </tr>\n",
                            "        <tr>\n",
                            "            <td>Torgersen</td>\n",
                            "            <td>FEMALE</td>\n",
                            "        </tr>\n",
                            "    </tbody>\n",
                            "</table>"
                        ],
                        "text/plain": [
                            "+-----------+--------+\n",
                            "|   island  |  sex   |\n",
                            "+-----------+--------+\n",
                            "| Torgersen |  MALE  |\n",
                            "| Torgersen | FEMALE |\n",
                            "| Torgersen | FEMALE |\n",
                            "| Torgersen |  None  |\n",
                            "| Torgersen | FEMALE |\n",
                            "+-----------+--------+"
                        ]
                    },
                    "execution_count": 15,
                    "metadata": {},
                    "output_type": "execute_result"
                }
            ],
            "source": [
                "%sql SELECT {{dynamic_column}} FROM penguins LIMIT {{dynamic_limit}}"
            ]
        },
        {
            "cell_type": "markdown",
            "id": "898f9f0c",
            "metadata": {},
            "source": [
                "## CTEs\n",
                "\n",
                "Using JupySQL we can save query snippets, and use these saved snippets to form larger queries. Let's see CTEs in action:"
            ]
        },
        {
            "cell_type": "code",
            "execution_count": 11,
            "id": "a108569c",
            "metadata": {},
            "outputs": [
                {
                    "data": {
                        "text/html": [
                            "<span style=\"None\">Running query in &#x27;connection&#x27;</span>"
                        ],
                        "text/plain": [
                            "Running query in 'connection'"
                        ]
                    },
                    "metadata": {},
                    "output_type": "display_data"
                },
                {
                    "data": {
                        "text/html": [
                            "<span style=\"None\">Skipping execution...</span>"
                        ],
                        "text/plain": [
                            "Skipping execution..."
                        ]
                    },
                    "metadata": {},
                    "output_type": "display_data"
                }
            ],
            "source": [
                "%%sql --save no_nulls --no-execute\n",
                "SELECT *\n",
                "FROM penguins\n",
                "WHERE body_mass_g IS NOT NULL and\n",
                "sex IS NOT NULL"
            ]
        },
        {
            "cell_type": "code",
            "execution_count": 12,
            "id": "6768b87e",
            "metadata": {},
            "outputs": [
                {
                    "name": "stdout",
                    "output_type": "stream",
                    "text": [
                        "Generating CTE with stored snippets : no_nulls\n"
                    ]
                },
                {
                    "data": {
                        "text/html": [
                            "<span style=\"None\">Running query in &#x27;connection&#x27;</span>"
                        ],
                        "text/plain": [
                            "Running query in 'connection'"
                        ]
                    },
                    "metadata": {},
                    "output_type": "display_data"
                },
                {
                    "data": {
                        "text/html": [
                            "<span style=\"color: green\">3 rows affected.</span>"
                        ],
                        "text/plain": [
                            "3 rows affected."
                        ]
                    },
                    "metadata": {},
                    "output_type": "display_data"
                },
                {
                    "data": {
                        "text/html": [
                            "<table>\n",
                            "    <thead>\n",
                            "        <tr>\n",
                            "            <th>island</th>\n",
                            "            <th>avg_body_mass_g</th>\n",
                            "        </tr>\n",
                            "    </thead>\n",
                            "    <tbody>\n",
                            "        <tr>\n",
                            "            <td>Torgersen</td>\n",
                            "            <td>3708.5106382978724</td>\n",
                            "        </tr>\n",
                            "        <tr>\n",
                            "            <td>Biscoe</td>\n",
                            "            <td>4719.171779141105</td>\n",
                            "        </tr>\n",
                            "        <tr>\n",
                            "            <td>Dream</td>\n",
                            "            <td>3718.9024390243903</td>\n",
                            "        </tr>\n",
                            "    </tbody>\n",
                            "</table>"
                        ],
                        "text/plain": [
                            "+-----------+--------------------+\n",
                            "|   island  |  avg_body_mass_g   |\n",
                            "+-----------+--------------------+\n",
                            "| Torgersen | 3708.5106382978724 |\n",
                            "|   Biscoe  | 4719.171779141105  |\n",
                            "|   Dream   | 3718.9024390243903 |\n",
                            "+-----------+--------------------+"
                        ]
                    },
                    "execution_count": 12,
                    "metadata": {},
                    "output_type": "execute_result"
                }
            ],
            "source": [
                "%%sql\n",
                "SELECT island, avg(body_mass_g) as avg_body_mass_g\n",
                "FROM no_nulls\n",
                "GROUP BY island;"
            ]
        },
        {
            "cell_type": "markdown",
            "id": "4a11d4f4",
            "metadata": {},
            "source": [
                "The query gets compiled like so:"
            ]
        },
        {
            "cell_type": "code",
            "execution_count": 13,
            "id": "7bcf72de",
            "metadata": {},
            "outputs": [
                {
                    "name": "stdout",
                    "output_type": "stream",
                    "text": [
                        "WITH\n",
                        "SELECT *\n",
                        "FROM penguins\n",
                        "WHERE body_mass_g IS NOT NULL and\n",
                        "sex IS NOT NULL\n"
                    ]
                }
            ],
            "source": [
                "final = %sqlcmd snippets no_nulls\n",
                "print(final)"
            ]
        },
        {
            "cell_type": "markdown",
            "id": "8644b4a1-0f51-4d76-b348-29c8bff2c3be",
            "metadata": {},
            "source": [
                "## Plotting\n"
            ]
        },
        {
            "cell_type": "code",
            "execution_count": 16,
            "id": "c739d88e-6593-41b6-998d-a453c6355590",
            "metadata": {
                "tags": []
            },
            "outputs": [
                {
                    "data": {
                        "text/plain": [
                            "<Axes: title={'center': \"'bill_length_mm' from 'penguins'\"}, xlabel='bill_length_mm', ylabel='Count'>"
                        ]
                    },
                    "execution_count": 16,
                    "metadata": {},
                    "output_type": "execute_result"
                },
                {
                    "data": {
                        "image/png": "[encoded data removed]",
                        "text/plain": [
                            "<Figure size 640x480 with 1 Axes>"
                        ]
                    },
                    "metadata": {},
                    "output_type": "display_data"
                }
            ],
            "source": [
                "%sqlplot histogram --table penguins --column bill_length_mm"
            ]
        },
        {
            "cell_type": "markdown",
            "id": "38d6711c",
            "metadata": {},
            "source": [
                "## Clean up\n",
                "\n",
                "To ensure that the Python connector closes the session properly, execute `connection.close()` before `engine.dispose()`. This prevents the garbage collector from removing the resources required to communicate with Snowflake."
            ]
        },
        {
            "cell_type": "code",
            "execution_count": 16,
            "id": "20db062a",
            "metadata": {},
            "outputs": [],
            "source": [
                "connection.close()\n",
                "engine.dispose()"
            ]
        }
    ],
    "metadata": {
        "kernelspec": {
            "display_name": "Python 3 (ipykernel)",
            "language": "python",
            "name": "python3"
        },
        "language_info": {
            "codemirror_mode": {
                "name": "ipython",
                "version": 3
            },
            "file_extension": ".py",
            "mimetype": "text/x-python",
            "name": "python",
            "nbconvert_exporter": "python",
            "pygments_lexer": "ipython3",
            "version": "3.10.11"
        },
        "varInspector": {
            "cols": {
                "lenName": 16,
                "lenType": 16,
                "lenVar": 40
            },
            "kernels_config": {
                "python": {
                    "delete_cmd_postfix": "",
                    "delete_cmd_prefix": "del ",
                    "library": "var_list.py",
                    "varRefreshCmd": "print(var_dic_list())"
                },
                "r": {
                    "delete_cmd_postfix": ") ",
                    "delete_cmd_prefix": "rm(",
                    "library": "var_list.r",
                    "varRefreshCmd": "cat(var_dic_list()) "
                }
            },
            "types_to_exclude": [
                "module",
                "function",
                "builtin_function_or_method",
                "instance",
                "_Feature"
            ],
            "window_display": false
        }
    },
    "nbformat": 4,
    "nbformat_minor": 5
}