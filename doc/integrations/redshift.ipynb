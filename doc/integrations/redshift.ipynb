{
 "cells": [
  {
   "cell_type": "markdown",
   "id": "d22b2168-17c7-4a77-89d1-b928f3b7d41c",
   "metadata": {},
   "source": [
    "# Redshift\n",
    "\n",
    "This tutorial will show you how to use JupySQL with [Redshift](https://aws.amazon.com/redshift/), a data warehouse service provided by AWS.\n",
    "\n",
    "## Pre-requisites\n",
    "\n",
    "First, let's install the required packages."
   ]
  },
  {
   "cell_type": "code",
   "execution_count": 2,
   "id": "104f9ccb-1ce8-4850-a0f0-520cf445b292",
   "metadata": {
    "tags": []
   },
   "outputs": [
    {
     "name": "stdout",
     "output_type": "stream",
     "text": [
      "Note: you may need to restart the kernel to use updated packages.\n"
     ]
    }
   ],
   "source": [
    "%pip install jupysql sqlalchemy-redshift redshift-connector --quiet"
   ]
  },
  {
   "cell_type": "markdown",
   "id": "06edf8cd-6c65-4018-a818-47037c3ae831",
   "metadata": {},
   "source": [
    "Load JupySQL:"
   ]
  },
  {
   "cell_type": "code",
   "execution_count": null,
   "id": "ba102937-c7bd-48a4-aec0-999794519b02",
   "metadata": {
    "tags": []
   },
   "outputs": [],
   "source": [
    "%load_ext sql"
   ]
  },
  {
   "cell_type": "markdown",
   "id": "759e70ec-7afd-4508-a49a-cd3f41ca3092",
   "metadata": {},
   "source": [
    "## Connect to Redshift\n",
    "\n",
    "Here, we create a connection and pass it to JupySQL:"
   ]
  },
  {
   "cell_type": "code",
   "execution_count": 4,
   "id": "759a61b2-4c50-4a76-b1b2-85dd3d082308",
   "metadata": {
    "tags": []
   },
   "outputs": [],
   "source": [
    "from os import environ\n",
    "from sqlalchemy import create_engine\n",
    "from sqlalchemy.engine import URL\n",
    "\n",
    "user = environ[\"REDSHIFT_USER\"]\n",
    "password = environ[\"REDSHIFT_PASSWORD\"]\n",
    "host = environ[\"REDSHIFT_HOST\"]\n",
    "\n",
    "url = URL.create(\n",
    "    drivername=\"redshift+redshift_connector\",\n",
    "    username=user,\n",
    "    password=password,\n",
    "    host=host,\n",
    "    port=5439,\n",
    "    database=\"dev\",\n",
    ")\n",
    "\n",
    "engine = create_engine(url)"
   ]
  },
  {
   "cell_type": "code",
   "execution_count": 5,
   "id": "07768b48-2c43-4fc3-a009-d87826d8b2be",
   "metadata": {
    "tags": []
   },
   "outputs": [],
   "source": [
    "%sql engine --alias redshift-sqlalchemy"
   ]
  },
  {
   "cell_type": "markdown",
   "id": "e5c7085a-cc78-4217-9671-5027a90bf911",
   "metadata": {},
   "source": [
    "## Load data\n",
    "\n",
    "We'll load some sample data. First, we create the table:"
   ]
  },
  {
   "cell_type": "code",
   "execution_count": 6,
   "id": "2c0bf0c1-b40c-4415-8387-3df77af874ba",
   "metadata": {
    "tags": []
   },
   "outputs": [
    {
     "data": {
      "text/html": [
       "<span style=\"None\">Running query in &#x27;redshift-sqlalchemy&#x27;</span>"
      ],
      "text/plain": [
       "Running query in 'redshift-sqlalchemy'"
      ]
     },
     "metadata": {},
     "output_type": "display_data"
    },
    {
     "data": {
      "text/html": [
       "<table>\n",
       "    <thead>\n",
       "        <tr>\n",
       "        </tr>\n",
       "    </thead>\n",
       "    <tbody>\n",
       "    </tbody>\n",
       "</table>\n",
       "<span style='font-style:italic;font-size:11px'><code>ResultSet</code> : to convert to pandas, call <a href='https://jupysql.ploomber.io/en/latest/integrations/pandas.html'><code>.DataFrame()</code></a> or to polars, call <a href='https://jupysql.ploomber.io/en/latest/integrations/polars.html'><code>.PolarsDataFrame()</code></a></span><br>"
      ],
      "text/plain": [
       "++\n",
       "||\n",
       "++\n",
       "++"
      ]
     },
     "execution_count": 6,
     "metadata": {},
     "output_type": "execute_result"
    }
   ],
   "source": [
    "%%sql\n",
    "DROP TABLE taxi;\n",
    "\n",
    "CREATE TABLE taxi  (\n",
    "    VendorID                BIGINT,\n",
    "    tpep_pickup_datetime    TIMESTAMP,\n",
    "    tpep_dropoff_datetime   TIMESTAMP,\n",
    "    passenger_count         DOUBLE PRECISION,\n",
    "    trip_distance           DOUBLE PRECISION,\n",
    "    RatecodeID              DOUBLE PRECISION,\n",
    "    store_and_fwd_flag      VARCHAR(1),\n",
    "    PULocationID            BIGINT,\n",
    "    DOLocationID            BIGINT,\n",
    "    payment_type            BIGINT,\n",
    "    fare_amount             DOUBLE PRECISION,\n",
    "    extra                   DOUBLE PRECISION,\n",
    "    mta_tax                 DOUBLE PRECISION,\n",
    "    tip_amount              DOUBLE PRECISION,\n",
    "    tolls_amount            DOUBLE PRECISION,\n",
    "    improvement_surcharge   DOUBLE PRECISION,\n",
    "    total_amount            DOUBLE PRECISION,\n",
    "    congestion_surcharge    DOUBLE PRECISION,\n",
    "    airport_fee             DOUBLE PRECISION\n",
    ");"
   ]
  },
  {
   "cell_type": "markdown",
   "id": "29eaffd7-49f9-4a78-8347-88001eefcf49",
   "metadata": {},
   "source": [
    "Now, we use `COPY` to copy a `.parquet` file stored in an S3 bucket:\n",
    "\n",
    "```{admonition} Instructions to upload to S3\n",
    ":class: tip, dropdown\n",
    "\n",
    "If you don't have existing data and a role configured, here are the commands to do it:\n",
    "\n",
    "Create bucket:\n",
    "\n",
    "~~~sh\n",
    "aws s3api create-bucket --bucket {bucket-name} --region {aws-region}\n",
    "~~~\n",
    "\n",
    "Download some sample data from [here](https://www.nyc.gov/site/tlc/about/tlc-trip-record-data.page).\n",
    "\n",
    "Upload to the S3 bucket:\n",
    "\n",
    "~~~sh\n",
    "aws s3 cp path/to/data.parquet s3://{bucket-name}/data.parquet\n",
    "~~~\n",
    "\n",
    "Create a role that allows Redshift to  have S3 read access:\n",
    "\n",
    "~~~sh\n",
    "aws iam create-role --role-name {role-name} \\\n",
    "    --assume-role-policy-document '{\"Version\":\"2012-10-17\",\"Statement\":[{\"Effect\":\"Allow\",\"Principal\":{\"Service\":\"redshift.amazonaws.com\"},\"Action\":\"sts:AssumeRole\"}]}'\n",
    "    \n",
    "aws iam attach-role-policy --role-name {role-name} --policy-arn arn:aws:iam::aws:policy/AmazonS3ReadOnlyAccess\n",
    "~~~\n",
    "\n",
    "Then, go to the Redshift console and attach the role you created to your Redshift cluster.\n",
    "```\n"
   ]
  },
  {
   "cell_type": "code",
   "execution_count": 2,
   "id": "104cca47-2474-47aa-b7a5-ab358b1097d4",
   "metadata": {
    "tags": []
   },
   "outputs": [
    {
     "name": "stderr",
     "output_type": "stream",
     "text": [
      ""
     ]
    }
   ],
   "source": [
    "%%sql\n",
    "COPY taxi\n",
    "FROM 's3:///some-bucket/yellow_tripdata_2023-01.parquet'\n",
    "IAM_ROLE 'arn:aws:iam::XYZ:role/some-role'\n",
    "FORMAT AS PARQUET;"
   ]
  },
  {
   "cell_type": "markdown",
   "id": "56790755-6ac3-45d6-b4e0-1d34150ab793",
   "metadata": {},
   "source": [
    "## Query"
   ]
  },
  {
   "cell_type": "code",
   "execution_count": 8,
   "id": "98e6ca1d-09d6-4676-8a01-f2e7d84111e7",
   "metadata": {
    "tags": []
   },
   "outputs": [
    {
     "data": {
      "text/html": [
       "<span style=\"None\">Running query in &#x27;redshift-sqlalchemy&#x27;</span>"
      ],
      "text/plain": [
       "Running query in 'redshift-sqlalchemy'"
      ]
     },
     "metadata": {},
     "output_type": "display_data"
    },
    {
     "data": {
      "text/html": [
       "<table>\n",
       "    <thead>\n",
       "        <tr>\n",
       "            <th>vendorid</th>\n",
       "            <th>tpep_pickup_datetime</th>\n",
       "            <th>tpep_dropoff_datetime</th>\n",
       "            <th>passenger_count</th>\n",
       "            <th>trip_distance</th>\n",
       "            <th>ratecodeid</th>\n",
       "            <th>store_and_fwd_flag</th>\n",
       "            <th>pulocationid</th>\n",
       "            <th>dolocationid</th>\n",
       "            <th>payment_type</th>\n",
       "            <th>fare_amount</th>\n",
       "            <th>extra</th>\n",
       "            <th>mta_tax</th>\n",
       "            <th>tip_amount</th>\n",
       "            <th>tolls_amount</th>\n",
       "            <th>improvement_surcharge</th>\n",
       "            <th>total_amount</th>\n",
       "            <th>congestion_surcharge</th>\n",
       "            <th>airport_fee</th>\n",
       "        </tr>\n",
       "    </thead>\n",
       "    <tbody>\n",
       "        <tr>\n",
       "            <td>2</td>\n",
       "            <td>2023-01-01 01:11:11</td>\n",
       "            <td>2023-01-01 01:45:20</td>\n",
       "            <td>1.0</td>\n",
       "            <td>6.6</td>\n",
       "            <td>1.0</td>\n",
       "            <td>N</td>\n",
       "            <td>68</td>\n",
       "            <td>116</td>\n",
       "            <td>1</td>\n",
       "            <td>39.4</td>\n",
       "            <td>1.0</td>\n",
       "            <td>0.5</td>\n",
       "            <td>7.0</td>\n",
       "            <td>0.0</td>\n",
       "            <td>1.0</td>\n",
       "            <td>51.4</td>\n",
       "            <td>2.5</td>\n",
       "            <td>0.0</td>\n",
       "        </tr>\n",
       "        <tr>\n",
       "            <td>2</td>\n",
       "            <td>2023-01-01 01:18:13</td>\n",
       "            <td>2023-01-01 01:41:51</td>\n",
       "            <td>1.0</td>\n",
       "            <td>0.0</td>\n",
       "            <td>1.0</td>\n",
       "            <td>N</td>\n",
       "            <td>264</td>\n",
       "            <td>249</td>\n",
       "            <td>1</td>\n",
       "            <td>19.1</td>\n",
       "            <td>1.0</td>\n",
       "            <td>0.5</td>\n",
       "            <td>4.32</td>\n",
       "            <td>0.0</td>\n",
       "            <td>1.0</td>\n",
       "            <td>25.92</td>\n",
       "            <td>0.0</td>\n",
       "            <td>0.0</td>\n",
       "        </tr>\n",
       "        <tr>\n",
       "            <td>2</td>\n",
       "            <td>2023-01-01 01:43:59</td>\n",
       "            <td>2023-01-01 02:09:28</td>\n",
       "            <td>1.0</td>\n",
       "            <td>0.0</td>\n",
       "            <td>1.0</td>\n",
       "            <td>N</td>\n",
       "            <td>264</td>\n",
       "            <td>236</td>\n",
       "            <td>1</td>\n",
       "            <td>20.5</td>\n",
       "            <td>1.0</td>\n",
       "            <td>0.5</td>\n",
       "            <td>4.6</td>\n",
       "            <td>0.0</td>\n",
       "            <td>1.0</td>\n",
       "            <td>27.6</td>\n",
       "            <td>0.0</td>\n",
       "            <td>0.0</td>\n",
       "        </tr>\n",
       "    </tbody>\n",
       "</table>\n",
       "<span style='font-style:italic;font-size:11px'><code>ResultSet</code> : to convert to pandas, call <a href='https://jupysql.ploomber.io/en/latest/integrations/pandas.html'><code>.DataFrame()</code></a> or to polars, call <a href='https://jupysql.ploomber.io/en/latest/integrations/polars.html'><code>.PolarsDataFrame()</code></a></span><br>"
      ],
      "text/plain": [
       "+----------+----------------------+-----------------------+-----------------+---------------+------------+--------------------+--------------+--------------+--------------+-------------+-------+---------+------------+--------------+-----------------------+--------------+----------------------+-------------+\n",
       "| vendorid | tpep_pickup_datetime | tpep_dropoff_datetime | passenger_count | trip_distance | ratecodeid | store_and_fwd_flag | pulocationid | dolocationid | payment_type | fare_amount | extra | mta_tax | tip_amount | tolls_amount | improvement_surcharge | total_amount | congestion_surcharge | airport_fee |\n",
       "+----------+----------------------+-----------------------+-----------------+---------------+------------+--------------------+--------------+--------------+--------------+-------------+-------+---------+------------+--------------+-----------------------+--------------+----------------------+-------------+\n",
       "|    2     | 2023-01-01 01:11:11  |  2023-01-01 01:45:20  |       1.0       |      6.6      |    1.0     |         N          |      68      |     116      |      1       |     39.4    |  1.0  |   0.5   |    7.0     |     0.0      |          1.0          |     51.4     |         2.5          |     0.0     |\n",
       "|    2     | 2023-01-01 01:18:13  |  2023-01-01 01:41:51  |       1.0       |      0.0      |    1.0     |         N          |     264      |     249      |      1       |     19.1    |  1.0  |   0.5   |    4.32    |     0.0      |          1.0          |    25.92     |         0.0          |     0.0     |\n",
       "|    2     | 2023-01-01 01:43:59  |  2023-01-01 02:09:28  |       1.0       |      0.0      |    1.0     |         N          |     264      |     236      |      1       |     20.5    |  1.0  |   0.5   |    4.6     |     0.0      |          1.0          |     27.6     |         0.0          |     0.0     |\n",
       "+----------+----------------------+-----------------------+-----------------+---------------+------------+--------------------+--------------+--------------+--------------+-------------+-------+---------+------------+--------------+-----------------------+--------------+----------------------+-------------+"
      ]
     },
     "execution_count": 8,
     "metadata": {},
     "output_type": "execute_result"
    }
   ],
   "source": [
    "%%sql\n",
    "select * from taxi limit 3"
   ]
  },
  {
   "cell_type": "markdown",
   "id": "7b071dc7-8474-409a-bdbe-f6218b6e3d78",
   "metadata": {},
   "source": [
    "## List tables"
   ]
  },
  {
   "cell_type": "code",
   "execution_count": 11,
   "id": "57119ec7-6507-4441-ac12-b61b9f8ea973",
   "metadata": {
    "tags": []
   },
   "outputs": [
    {
     "data": {
      "text/html": [
       "<table>\n",
       "    <thead>\n",
       "        <tr>\n",
       "            <th>Name</th>\n",
       "        </tr>\n",
       "    </thead>\n",
       "    <tbody>\n",
       "        <tr>\n",
       "            <td>taxi</td>\n",
       "        </tr>\n",
       "    </tbody>\n",
       "</table>"
      ],
      "text/plain": [
       "+------+\n",
       "| Name |\n",
       "+------+\n",
       "| taxi |\n",
       "+------+"
      ]
     },
     "execution_count": 11,
     "metadata": {},
     "output_type": "execute_result"
    }
   ],
   "source": [
    "%sqlcmd tables"
   ]
  },
  {
   "cell_type": "markdown",
   "id": "9d43bb0c-6344-4460-987a-f620c0d41675",
   "metadata": {},
   "source": [
    "## List columns"
   ]
  },
  {
   "cell_type": "code",
   "execution_count": 12,
   "id": "51c8cd0c-ac52-4e18-81df-a1d344b97d4a",
   "metadata": {
    "tags": []
   },
   "outputs": [
    {
     "data": {
      "text/html": [
       "<table>\n",
       "    <thead>\n",
       "        <tr>\n",
       "            <th>name</th>\n",
       "            <th>type</th>\n",
       "            <th>nullable</th>\n",
       "            <th>default</th>\n",
       "            <th>autoincrement</th>\n",
       "            <th>comment</th>\n",
       "            <th>info</th>\n",
       "        </tr>\n",
       "    </thead>\n",
       "    <tbody>\n",
       "        <tr>\n",
       "            <td>vendorid</td>\n",
       "            <td>BIGINT</td>\n",
       "            <td>True</td>\n",
       "            <td>None</td>\n",
       "            <td>False</td>\n",
       "            <td>None</td>\n",
       "            <td>{&#x27;encode&#x27;: &#x27;az64&#x27;}</td>\n",
       "        </tr>\n",
       "        <tr>\n",
       "            <td>tpep_pickup_datetime</td>\n",
       "            <td>TIMESTAMP</td>\n",
       "            <td>True</td>\n",
       "            <td>None</td>\n",
       "            <td>False</td>\n",
       "            <td>None</td>\n",
       "            <td>{&#x27;encode&#x27;: &#x27;az64&#x27;}</td>\n",
       "        </tr>\n",
       "        <tr>\n",
       "            <td>tpep_dropoff_datetime</td>\n",
       "            <td>TIMESTAMP</td>\n",
       "            <td>True</td>\n",
       "            <td>None</td>\n",
       "            <td>False</td>\n",
       "            <td>None</td>\n",
       "            <td>{&#x27;encode&#x27;: &#x27;az64&#x27;}</td>\n",
       "        </tr>\n",
       "        <tr>\n",
       "            <td>passenger_count</td>\n",
       "            <td>DOUBLE_PRECISION</td>\n",
       "            <td>True</td>\n",
       "            <td>None</td>\n",
       "            <td>False</td>\n",
       "            <td>None</td>\n",
       "            <td>{}</td>\n",
       "        </tr>\n",
       "        <tr>\n",
       "            <td>trip_distance</td>\n",
       "            <td>DOUBLE_PRECISION</td>\n",
       "            <td>True</td>\n",
       "            <td>None</td>\n",
       "            <td>False</td>\n",
       "            <td>None</td>\n",
       "            <td>{}</td>\n",
       "        </tr>\n",
       "        <tr>\n",
       "            <td>ratecodeid</td>\n",
       "            <td>DOUBLE_PRECISION</td>\n",
       "            <td>True</td>\n",
       "            <td>None</td>\n",
       "            <td>False</td>\n",
       "            <td>None</td>\n",
       "            <td>{}</td>\n",
       "        </tr>\n",
       "        <tr>\n",
       "            <td>store_and_fwd_flag</td>\n",
       "            <td>VARCHAR(1)</td>\n",
       "            <td>True</td>\n",
       "            <td>None</td>\n",
       "            <td>False</td>\n",
       "            <td>None</td>\n",
       "            <td>{&#x27;encode&#x27;: &#x27;lzo&#x27;}</td>\n",
       "        </tr>\n",
       "        <tr>\n",
       "            <td>pulocationid</td>\n",
       "            <td>BIGINT</td>\n",
       "            <td>True</td>\n",
       "            <td>None</td>\n",
       "            <td>False</td>\n",
       "            <td>None</td>\n",
       "            <td>{&#x27;encode&#x27;: &#x27;az64&#x27;}</td>\n",
       "        </tr>\n",
       "        <tr>\n",
       "            <td>dolocationid</td>\n",
       "            <td>BIGINT</td>\n",
       "            <td>True</td>\n",
       "            <td>None</td>\n",
       "            <td>False</td>\n",
       "            <td>None</td>\n",
       "            <td>{&#x27;encode&#x27;: &#x27;az64&#x27;}</td>\n",
       "        </tr>\n",
       "        <tr>\n",
       "            <td>payment_type</td>\n",
       "            <td>BIGINT</td>\n",
       "            <td>True</td>\n",
       "            <td>None</td>\n",
       "            <td>False</td>\n",
       "            <td>None</td>\n",
       "            <td>{&#x27;encode&#x27;: &#x27;az64&#x27;}</td>\n",
       "        </tr>\n",
       "        <tr>\n",
       "            <td>fare_amount</td>\n",
       "            <td>DOUBLE_PRECISION</td>\n",
       "            <td>True</td>\n",
       "            <td>None</td>\n",
       "            <td>False</td>\n",
       "            <td>None</td>\n",
       "            <td>{}</td>\n",
       "        </tr>\n",
       "        <tr>\n",
       "            <td>extra</td>\n",
       "            <td>DOUBLE_PRECISION</td>\n",
       "            <td>True</td>\n",
       "            <td>None</td>\n",
       "            <td>False</td>\n",
       "            <td>None</td>\n",
       "            <td>{}</td>\n",
       "        </tr>\n",
       "        <tr>\n",
       "            <td>mta_tax</td>\n",
       "            <td>DOUBLE_PRECISION</td>\n",
       "            <td>True</td>\n",
       "            <td>None</td>\n",
       "            <td>False</td>\n",
       "            <td>None</td>\n",
       "            <td>{}</td>\n",
       "        </tr>\n",
       "        <tr>\n",
       "            <td>tip_amount</td>\n",
       "            <td>DOUBLE_PRECISION</td>\n",
       "            <td>True</td>\n",
       "            <td>None</td>\n",
       "            <td>False</td>\n",
       "            <td>None</td>\n",
       "            <td>{}</td>\n",
       "        </tr>\n",
       "        <tr>\n",
       "            <td>tolls_amount</td>\n",
       "            <td>DOUBLE_PRECISION</td>\n",
       "            <td>True</td>\n",
       "            <td>None</td>\n",
       "            <td>False</td>\n",
       "            <td>None</td>\n",
       "            <td>{}</td>\n",
       "        </tr>\n",
       "        <tr>\n",
       "            <td>improvement_surcharge</td>\n",
       "            <td>DOUBLE_PRECISION</td>\n",
       "            <td>True</td>\n",
       "            <td>None</td>\n",
       "            <td>False</td>\n",
       "            <td>None</td>\n",
       "            <td>{}</td>\n",
       "        </tr>\n",
       "        <tr>\n",
       "            <td>total_amount</td>\n",
       "            <td>DOUBLE_PRECISION</td>\n",
       "            <td>True</td>\n",
       "            <td>None</td>\n",
       "            <td>False</td>\n",
       "            <td>None</td>\n",
       "            <td>{}</td>\n",
       "        </tr>\n",
       "        <tr>\n",
       "            <td>congestion_surcharge</td>\n",
       "            <td>DOUBLE_PRECISION</td>\n",
       "            <td>True</td>\n",
       "            <td>None</td>\n",
       "            <td>False</td>\n",
       "            <td>None</td>\n",
       "            <td>{}</td>\n",
       "        </tr>\n",
       "        <tr>\n",
       "            <td>airport_fee</td>\n",
       "            <td>DOUBLE_PRECISION</td>\n",
       "            <td>True</td>\n",
       "            <td>None</td>\n",
       "            <td>False</td>\n",
       "            <td>None</td>\n",
       "            <td>{}</td>\n",
       "        </tr>\n",
       "    </tbody>\n",
       "</table>"
      ],
      "text/plain": [
       "+-----------------------+------------------+----------+---------+---------------+---------+--------------------+\n",
       "|          name         |       type       | nullable | default | autoincrement | comment |        info        |\n",
       "+-----------------------+------------------+----------+---------+---------------+---------+--------------------+\n",
       "|        vendorid       |      BIGINT      |   True   |   None  |     False     |   None  | {'encode': 'az64'} |\n",
       "|  tpep_pickup_datetime |    TIMESTAMP     |   True   |   None  |     False     |   None  | {'encode': 'az64'} |\n",
       "| tpep_dropoff_datetime |    TIMESTAMP     |   True   |   None  |     False     |   None  | {'encode': 'az64'} |\n",
       "|    passenger_count    | DOUBLE_PRECISION |   True   |   None  |     False     |   None  |         {}         |\n",
       "|     trip_distance     | DOUBLE_PRECISION |   True   |   None  |     False     |   None  |         {}         |\n",
       "|       ratecodeid      | DOUBLE_PRECISION |   True   |   None  |     False     |   None  |         {}         |\n",
       "|   store_and_fwd_flag  |    VARCHAR(1)    |   True   |   None  |     False     |   None  | {'encode': 'lzo'}  |\n",
       "|      pulocationid     |      BIGINT      |   True   |   None  |     False     |   None  | {'encode': 'az64'} |\n",
       "|      dolocationid     |      BIGINT      |   True   |   None  |     False     |   None  | {'encode': 'az64'} |\n",
       "|      payment_type     |      BIGINT      |   True   |   None  |     False     |   None  | {'encode': 'az64'} |\n",
       "|      fare_amount      | DOUBLE_PRECISION |   True   |   None  |     False     |   None  |         {}         |\n",
       "|         extra         | DOUBLE_PRECISION |   True   |   None  |     False     |   None  |         {}         |\n",
       "|        mta_tax        | DOUBLE_PRECISION |   True   |   None  |     False     |   None  |         {}         |\n",
       "|       tip_amount      | DOUBLE_PRECISION |   True   |   None  |     False     |   None  |         {}         |\n",
       "|      tolls_amount     | DOUBLE_PRECISION |   True   |   None  |     False     |   None  |         {}         |\n",
       "| improvement_surcharge | DOUBLE_PRECISION |   True   |   None  |     False     |   None  |         {}         |\n",
       "|      total_amount     | DOUBLE_PRECISION |   True   |   None  |     False     |   None  |         {}         |\n",
       "|  congestion_surcharge | DOUBLE_PRECISION |   True   |   None  |     False     |   None  |         {}         |\n",
       "|      airport_fee      | DOUBLE_PRECISION |   True   |   None  |     False     |   None  |         {}         |\n",
       "+-----------------------+------------------+----------+---------+---------------+---------+--------------------+"
      ]
     },
     "execution_count": 12,
     "metadata": {},
     "output_type": "execute_result"
    }
   ],
   "source": [
    "%sqlcmd columns --table taxi"
   ]
  },
  {
   "cell_type": "markdown",
   "id": "5a9b8f5c-f5c4-4e95-ab54-09d0f3122790",
   "metadata": {},
   "source": [
    "## Profile a dataset"
   ]
  },
  {
   "cell_type": "code",
   "execution_count": 42,
   "id": "b46f42ff-c973-48c2-a0c1-184cb8ca4c29",
   "metadata": {
    "tags": []
   },
   "outputs": [
    {
     "data": {
      "text/html": [
       "<div style='position: sticky; left: 0; padding: 10px; font-size: 12px; color: #FFA500'><strong></strong> Following statistics are not available in\n",
       "            redshift_connector: STD, 25%, 50%, 75%</div><style>\n",
       " #profile-table td:first-child {\n",
       "  position: sticky;\n",
       "  left: 0;\n",
       "  background-color: var(--jp-cell-editor-background);\n",
       "  font-weight: bold;\n",
       "}\n",
       " #profile-table thead tr th:first-child {\n",
       "  position: sticky;\n",
       "  left: 0;\n",
       "  background-color: var(--jp-cell-editor-background);\n",
       "  font-weight: bold; /* Adding bold text */\n",
       "}\n",
       "            </style><style></style><table id=\"profile-table-68952b4f34d94b5ea4064d807e89d6c6\">\n",
       "    <thead>\n",
       "        <tr>\n",
       "            <th> </th>\n",
       "            <th>vendorid</th>\n",
       "            <th>tpep_pickup_datetime</th>\n",
       "            <th>tpep_dropoff_datetime</th>\n",
       "            <th>passenger_count</th>\n",
       "            <th>trip_distance</th>\n",
       "            <th>ratecodeid</th>\n",
       "            <th>store_and_fwd_flag</th>\n",
       "            <th>pulocationid</th>\n",
       "            <th>dolocationid</th>\n",
       "            <th>payment_type</th>\n",
       "            <th>fare_amount</th>\n",
       "            <th>extra</th>\n",
       "            <th>mta_tax</th>\n",
       "            <th>tip_amount</th>\n",
       "            <th>tolls_amount</th>\n",
       "            <th>improvement_surcharge</th>\n",
       "            <th>total_amount</th>\n",
       "            <th>congestion_surcharge</th>\n",
       "            <th>airport_fee</th>\n",
       "        </tr>\n",
       "    </thead>\n",
       "    <tbody>\n",
       "        <tr>\n",
       "            <td>count</td>\n",
       "            <td>3066766</td>\n",
       "            <td>3066766</td>\n",
       "            <td>3066766</td>\n",
       "            <td>2995023</td>\n",
       "            <td>3066766</td>\n",
       "            <td>2995023</td>\n",
       "            <td>2995023</td>\n",
       "            <td>3066766</td>\n",
       "            <td>3066766</td>\n",
       "            <td>3066766</td>\n",
       "            <td>3066766</td>\n",
       "            <td>3066766</td>\n",
       "            <td>3066766</td>\n",
       "            <td>3066766</td>\n",
       "            <td>3066766</td>\n",
       "            <td>3066766</td>\n",
       "            <td>3066766</td>\n",
       "            <td>2995023</td>\n",
       "            <td>2995023</td>\n",
       "        </tr>\n",
       "        <tr>\n",
       "            <td>unique</td>\n",
       "            <td>2</td>\n",
       "            <td>1610975</td>\n",
       "            <td>1611319</td>\n",
       "            <td>10</td>\n",
       "            <td>4387</td>\n",
       "            <td>7</td>\n",
       "            <td>2</td>\n",
       "            <td>257</td>\n",
       "            <td>261</td>\n",
       "            <td>5</td>\n",
       "            <td>6873</td>\n",
       "            <td>68</td>\n",
       "            <td>10</td>\n",
       "            <td>4036</td>\n",
       "            <td>776</td>\n",
       "            <td>5</td>\n",
       "            <td>15871</td>\n",
       "            <td>3</td>\n",
       "            <td>3</td>\n",
       "        </tr>\n",
       "        <tr>\n",
       "            <td>mean</td>\n",
       "            <td>1.0000</td>\n",
       "            <td>nan</td>\n",
       "            <td>nan</td>\n",
       "            <td>1.3625</td>\n",
       "            <td>3.8473</td>\n",
       "            <td>1.4974</td>\n",
       "            <td>nan</td>\n",
       "            <td>166.0000</td>\n",
       "            <td>164.0000</td>\n",
       "            <td>1.0000</td>\n",
       "            <td>18.3671</td>\n",
       "            <td>1.5378</td>\n",
       "            <td>0.4883</td>\n",
       "            <td>3.3679</td>\n",
       "            <td>0.5185</td>\n",
       "            <td>0.9821</td>\n",
       "            <td>27.0204</td>\n",
       "            <td>2.2742</td>\n",
       "            <td>0.1074</td>\n",
       "        </tr>\n",
       "        <tr>\n",
       "            <td>min</td>\n",
       "            <td>1</td>\n",
       "            <td>nan</td>\n",
       "            <td>nan</td>\n",
       "            <td>0.0</td>\n",
       "            <td>0.0</td>\n",
       "            <td>1.0</td>\n",
       "            <td>nan</td>\n",
       "            <td>1</td>\n",
       "            <td>1</td>\n",
       "            <td>0</td>\n",
       "            <td>-900.0</td>\n",
       "            <td>-7.5</td>\n",
       "            <td>-0.5</td>\n",
       "            <td>-96.22</td>\n",
       "            <td>-65.0</td>\n",
       "            <td>-1.0</td>\n",
       "            <td>-751.0</td>\n",
       "            <td>-2.5</td>\n",
       "            <td>-1.25</td>\n",
       "        </tr>\n",
       "        <tr>\n",
       "            <td>max</td>\n",
       "            <td>2</td>\n",
       "            <td>nan</td>\n",
       "            <td>nan</td>\n",
       "            <td>9.0</td>\n",
       "            <td>258928.15</td>\n",
       "            <td>99.0</td>\n",
       "            <td>nan</td>\n",
       "            <td>265</td>\n",
       "            <td>265</td>\n",
       "            <td>4</td>\n",
       "            <td>1160.1</td>\n",
       "            <td>12.5</td>\n",
       "            <td>53.16</td>\n",
       "            <td>380.8</td>\n",
       "            <td>196.99</td>\n",
       "            <td>1.0</td>\n",
       "            <td>1169.4</td>\n",
       "            <td>2.5</td>\n",
       "            <td>1.25</td>\n",
       "        </tr>\n",
       "    </tbody>\n",
       "</table><div style='position: sticky; left: 0; padding: 10px; font-size: 12px; color: black; background-color: white;'><strong></strong> </div>"
      ],
      "text/plain": [
       "+--------+----------+----------------------+-----------------------+-----------------+---------------+------------+--------------------+--------------+--------------+--------------+-------------+---------+---------+------------+--------------+-----------------------+--------------+----------------------+-------------+\n",
       "|        | vendorid | tpep_pickup_datetime | tpep_dropoff_datetime | passenger_count | trip_distance | ratecodeid | store_and_fwd_flag | pulocationid | dolocationid | payment_type | fare_amount |  extra  | mta_tax | tip_amount | tolls_amount | improvement_surcharge | total_amount | congestion_surcharge | airport_fee |\n",
       "+--------+----------+----------------------+-----------------------+-----------------+---------------+------------+--------------------+--------------+--------------+--------------+-------------+---------+---------+------------+--------------+-----------------------+--------------+----------------------+-------------+\n",
       "| count  | 3066766  |       3066766        |        3066766        |     2995023     |    3066766    |  2995023   |      2995023       |   3066766    |   3066766    |   3066766    |   3066766   | 3066766 | 3066766 |  3066766   |   3066766    |        3066766        |   3066766    |       2995023        |   2995023   |\n",
       "| unique |    2     |       1610975        |        1611319        |        10       |      4387     |     7      |         2          |     257      |     261      |      5       |     6873    |    68   |    10   |    4036    |     776      |           5           |    15871     |          3           |      3      |\n",
       "|  mean  |  1.0000  |         nan          |          nan          |      1.3625     |     3.8473    |   1.4974   |        nan         |   166.0000   |   164.0000   |    1.0000    |   18.3671   |  1.5378 |  0.4883 |   3.3679   |    0.5185    |         0.9821        |   27.0204    |        2.2742        |    0.1074   |\n",
       "|  min   |    1     |         nan          |          nan          |       0.0       |      0.0      |    1.0     |        nan         |      1       |      1       |      0       |    -900.0   |   -7.5  |   -0.5  |   -96.22   |    -65.0     |          -1.0         |    -751.0    |         -2.5         |    -1.25    |\n",
       "|  max   |    2     |         nan          |          nan          |       9.0       |   258928.15   |    99.0    |        nan         |     265      |     265      |      4       |    1160.1   |   12.5  |  53.16  |   380.8    |    196.99    |          1.0          |    1169.4    |         2.5          |     1.25    |\n",
       "+--------+----------+----------------------+-----------------------+-----------------+---------------+------------+--------------------+--------------+--------------+--------------+-------------+---------+---------+------------+--------------+-----------------------+--------------+----------------------+-------------+"
      ]
     },
     "execution_count": 42,
     "metadata": {},
     "output_type": "execute_result"
    }
   ],
   "source": [
    "%sqlcmd profile --table taxi"
   ]
  },
  {
   "cell_type": "markdown",
   "id": "5c82b2d3-5ebd-46f2-bc0b-2ad34737ebbf",
   "metadata": {},
   "source": [
    "## Plotting\n",
    "\n",
    "Let's create a histogram for the `trip_distance`. Since there are outliers, we'll use the 99th percentile as a cutoff value."
   ]
  },
  {
   "cell_type": "code",
   "execution_count": 13,
   "id": "d747789f-a627-408c-a122-0443f2fdb90d",
   "metadata": {
    "tags": []
   },
   "outputs": [
    {
     "data": {
      "text/html": [
       "<span style=\"None\">Running query in &#x27;redshift-sqlalchemy&#x27;</span>"
      ],
      "text/plain": [
       "Running query in 'redshift-sqlalchemy'"
      ]
     },
     "metadata": {},
     "output_type": "display_data"
    },
    {
     "data": {
      "text/html": [
       "<table>\n",
       "    <thead>\n",
       "        <tr>\n",
       "            <th>percentile_disc</th>\n",
       "        </tr>\n",
       "    </thead>\n",
       "    <tbody>\n",
       "        <tr>\n",
       "            <td>20.0</td>\n",
       "        </tr>\n",
       "    </tbody>\n",
       "</table>\n",
       "<span style='font-style:italic;font-size:11px'><code>ResultSet</code> : to convert to pandas, call <a href='https://jupysql.ploomber.io/en/latest/integrations/pandas.html'><code>.DataFrame()</code></a> or to polars, call <a href='https://jupysql.ploomber.io/en/latest/integrations/polars.html'><code>.PolarsDataFrame()</code></a></span><br>"
      ],
      "text/plain": [
       "+-----------------+\n",
       "| percentile_disc |\n",
       "+-----------------+\n",
       "|       20.0      |\n",
       "+-----------------+"
      ]
     },
     "execution_count": 13,
     "metadata": {},
     "output_type": "execute_result"
    }
   ],
   "source": [
    "%%sql\n",
    "SELECT \n",
    "    APPROXIMATE PERCENTILE_DISC(0.99) WITHIN GROUP (ORDER BY trip_distance)\n",
    "FROM \n",
    "    taxi;"
   ]
  },
  {
   "cell_type": "markdown",
   "id": "e27903cb",
   "metadata": {},
   "source": [
    "Let's create a new snippet by filtering out the outliers using `--save`:"
   ]
  },
  {
   "cell_type": "code",
   "execution_count": 14,
   "id": "3e55ecc0-ecaf-4d4d-8cf9-4bc7735f5495",
   "metadata": {
    "tags": []
   },
   "outputs": [
    {
     "data": {
      "text/html": [
       "<span style=\"None\">Running query in &#x27;redshift-sqlalchemy&#x27;</span>"
      ],
      "text/plain": [
       "Running query in 'redshift-sqlalchemy'"
      ]
     },
     "metadata": {},
     "output_type": "display_data"
    },
    {
     "data": {
      "text/html": [
       "<span style=\"None\">Skipping execution...</span>"
      ],
      "text/plain": [
       "Skipping execution..."
      ]
     },
     "metadata": {},
     "output_type": "display_data"
    }
   ],
   "source": [
    "%%sql --save taxi_no_outliers --no-execute\n",
    "select * from taxi  where trip_distance < 20"
   ]
  },
  {
   "cell_type": "code",
   "execution_count": 15,
   "id": "a7e0685d-4950-4c97-9f5d-ac3be039d1e0",
   "metadata": {
    "tags": []
   },
   "outputs": [
    {
     "data": {
      "text/html": [
       "<span style=\"None\">Plotting using saved snippet : taxi_no_outliers</span>"
      ],
      "text/plain": [
       "Plotting using saved snippet : taxi_no_outliers"
      ]
     },
     "metadata": {},
     "output_type": "display_data"
    },
    {
     "data": {
      "text/plain": [
       "<Axes: title={'center': \"'trip_distance' from 'taxi_no_outliers'\"}, xlabel='trip_distance', ylabel='Count'>"
      ]
     },
     "execution_count": 15,
     "metadata": {},
     "output_type": "execute_result"
    },
    {
     "data": {
      "image/png": "[encoded data removed]",
      "text/plain": [
       "<Figure size 640x480 with 1 Axes>"
      ]
     },
     "metadata": {},
     "output_type": "display_data"
    }
   ],
   "source": [
    "%sqlplot histogram --table taxi_no_outliers --column trip_distance"
   ]
  },
  {
   "cell_type": "markdown",
   "id": "afc3a091-58b4-42be-89e0-ffefc9f22003",
   "metadata": {},
   "source": [
    "## Plotting using the `ggplot` API\n",
    "\n",
    "You can also use the `ggplot` API to create visualizations:"
   ]
  },
  {
   "cell_type": "code",
   "execution_count": 16,
   "id": "8732b80d-6dc4-42b1-b503-3fa039f66f4b",
   "metadata": {
    "tags": []
   },
   "outputs": [],
   "source": [
    "from sql.ggplot import ggplot, aes, geom_histogram"
   ]
  },
  {
   "cell_type": "code",
   "execution_count": 17,
   "id": "9a82b4f3-36de-4e77-ba3f-ecc88be9d4c1",
   "metadata": {
    "tags": []
   },
   "outputs": [
    {
     "data": {
      "text/plain": [
       "<sql.ggplot.ggplot.ggplot at 0x11db6ebc0>"
      ]
     },
     "execution_count": 17,
     "metadata": {},
     "output_type": "execute_result"
    },
    {
     "data": {
      "image/png": "[encoded data removed]",
      "text/plain": [
       "<Figure size 640x480 with 1 Axes>"
      ]
     },
     "metadata": {},
     "output_type": "display_data"
    }
   ],
   "source": [
    "(\n",
    "    ggplot(\"taxi_no_outliers\", aes(x=\"trip_distance\"), with_=\"taxi_no_outliers\")\n",
    "    + geom_histogram(bins=30, fill=\"vendorid\")\n",
    ")"
   ]
  },
  {
   "cell_type": "markdown",
   "id": "e2317e18-30a2-4b04-b889-40c3d66c9077",
   "metadata": {},
   "source": [
    "## Using a native connection\n",
    "\n",
    "Using a native connection is also supported."
   ]
  },
  {
   "cell_type": "code",
   "execution_count": 55,
   "id": "34c3db55-3631-42a1-b43e-670e7e4e7b96",
   "metadata": {},
   "outputs": [
    {
     "name": "stdout",
     "output_type": "stream",
     "text": [
      "Note: you may need to restart the kernel to use updated packages.\n"
     ]
    }
   ],
   "source": [
    "%pip install redshift-connector --quiet"
   ]
  },
  {
   "cell_type": "code",
   "execution_count": 56,
   "id": "ca437a56-a06e-4669-ba47-26d74701ddd5",
   "metadata": {
    "tags": []
   },
   "outputs": [],
   "source": [
    "import redshift_connector\n",
    "\n",
    "conn = redshift_connector.connect(\n",
    "    host=host,\n",
    "    database=\"dev\",\n",
    "    port=5439,\n",
    "    user=user,\n",
    "    password=password,\n",
    "    timeout=60,\n",
    ")"
   ]
  },
  {
   "cell_type": "code",
   "execution_count": 57,
   "id": "a36dc846-aa1d-485d-bd71-798960f309e7",
   "metadata": {
    "tags": []
   },
   "outputs": [],
   "source": [
    "%sql conn --alias redshift-native"
   ]
  }
 ],
 "metadata": {
  "kernelspec": {
   "display_name": "Python 3 (ipykernel)",
   "language": "python",
   "name": "python3"
  },
  "language_info": {
   "codemirror_mode": {
    "name": "ipython",
    "version": 3
   },
   "file_extension": ".py",
   "mimetype": "text/x-python",
   "name": "python",
   "nbconvert_exporter": "python",
   "pygments_lexer": "ipython3",
   "version": "3.10.12"
  }
 },
 "nbformat": 4,
 "nbformat_minor": 5
}
