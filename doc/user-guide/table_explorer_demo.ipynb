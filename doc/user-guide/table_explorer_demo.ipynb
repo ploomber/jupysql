{
 "cells": [
  {
   "cell_type": "code",
   "execution_count": null,
   "id": "3d0ba32c",
   "metadata": {},
   "outputs": [],
   "source": [
    "%%bash\n",
    "node --version"
   ]
  },
  {
   "cell_type": "code",
   "execution_count": null,
   "id": "aeea7494",
   "metadata": {},
   "outputs": [],
   "source": [
    "!pip install git+https://github.com/ploomber/jupysql-plugin.git#eqq=jupysql-plugin"
   ]
  },
  {
   "attachments": {},
   "cell_type": "markdown",
   "id": "433f8960",
   "metadata": {},
   "source": [
    "# Prepare the data"
   ]
  },
  {
   "cell_type": "code",
   "execution_count": null,
   "id": "af312a4e",
   "metadata": {},
   "outputs": [],
   "source": [
    "from pathlib import Path\n",
    "from urllib.request import urlretrieve\n",
    "\n",
    "url = \"https://d37ci6vzurychx.cloudfront.net/trip-data/yellow_tripdata_2021-01.parquet\"\n",
    "\n",
    "if not Path(\"yellow_tripdata_2021-01.parquet\").is_file():\n",
    "    urlretrieve(url, \"yellow_tripdata_2021.parquet\")"
   ]
  },
  {
   "cell_type": "code",
   "execution_count": 2,
   "id": "963ad402",
   "metadata": {},
   "outputs": [],
   "source": [
    "from pathlib import Path\n",
    "from urllib.request import urlretrieve\n",
    "\n",
    "url = \"https://raw.githubusercontent.com/mwaskom/seaborn-data/master/penguins.csv\"\n",
    "\n",
    "if not Path(\"penguins.csv\").is_file():\n",
    "    urlretrieve(url, \"penguins.csv\")"
   ]
  },
  {
   "attachments": {},
   "cell_type": "markdown",
   "id": "108ce5b8",
   "metadata": {
    "tags": []
   },
   "source": [
    "# Run Jupysql"
   ]
  },
  {
   "cell_type": "code",
   "execution_count": 3,
   "id": "82d717eb",
   "metadata": {
    "tags": []
   },
   "outputs": [],
   "source": [
    "%load_ext sql\n",
    "%sql duckdb://"
   ]
  },
  {
   "cell_type": "code",
   "execution_count": 8,
   "id": "c1686d76",
   "metadata": {
    "scrolled": true,
    "tags": []
   },
   "outputs": [],
   "source": [
    "%sqlcmd explore --table penguins.csv"
   ]
  },
  {
   "cell_type": "code",
   "execution_count": null,
   "id": "fb39068d-77ac-4de3-a44c-eb1124e3d0b9",
   "metadata": {},
   "outputs": [],
   "source": []
  }
 ],
 "metadata": {
  "kernelspec": {
   "display_name": "Python 3 (ipykernel)",
   "language": "python",
   "name": "python3"
  },
  "language_info": {
   "codemirror_mode": {
    "name": "ipython",
    "version": 3
   },
   "file_extension": ".py",
   "mimetype": "text/x-python",
   "name": "python",
   "nbconvert_exporter": "python",
   "pygments_lexer": "ipython3",
   "version": "3.11.3"
  }
 },
 "nbformat": 4,
 "nbformat_minor": 5
}
