{
 "cells": [
  {
   "attachments": {},
   "cell_type": "markdown",
   "id": "b930f418",
   "metadata": {},
   "source": [
    "# Table Explorer\n",
    "\n",
    "\n",
    "```{versionadded} 0.7.6\n",
    "~~~\n",
    "pip install jupysql --upgrade\n",
    "~~~\n",
    "```\n",
    "\n",
    "In this guide, we demonstrate how to use JupySQL's table explorer to visualize SQL tables in HTML format and interact with them efficiently. By running SQL queries in the background instead of loading the data into memory, we minimize the resource consumption and processing time required for handling large datasets, making the interaction with the SQL tables faster and more streamlined.\n",
    "\n",
    "```{note}\n",
    "If you are using JupyterLab or Binder, please ensure that you have installed the latest version of the JupySQL plugin by running the following command: `pip install jupysql-plugin --upgrade`.\n",
    "```\n",
    "\n",
    "Let's start by preparing our dataset. We'll be using the [NYC taxi dataset](https://www.nyc.gov/site/tlc/about/tlc-trip-record-data.page).\n",
    "\n",
    "## Download the data"
   ]
  },
  {
   "cell_type": "code",
   "execution_count": null,
   "id": "67e9f89e",
   "metadata": {
    "execution": {
     "iopub.execute_input": "2023-07-11T06:22:13.430128Z",
     "iopub.status.busy": "2023-07-11T06:22:13.429703Z",
     "iopub.status.idle": "2023-07-11T06:23:17.468530Z",
     "shell.execute_reply": "2023-07-11T06:23:17.467710Z",
     "shell.execute_reply.started": "2023-07-11T06:22:13.430101Z"
    }
   },
   "outputs": [],
   "source": [
    "from pathlib import Path\n",
    "from urllib.request import urlretrieve\n",
    "\n",
    "url = \"https://d37ci6vzurychx.cloudfront.net/trip-data/yellow_tripdata_2021-01.parquet\"\n",
    "\n",
    "if not Path(\"yellow_tripdata_2021-01.parquet\").is_file():\n",
    "    urlretrieve(url, \"yellow_tripdata_2021.parquet\")"
   ]
  },
  {
   "attachments": {},
   "cell_type": "markdown",
   "id": "50e7c60f",
   "metadata": {},
   "source": [
    "## Installation"
   ]
  },
  {
   "cell_type": "code",
   "execution_count": null,
   "id": "2708d4a7",
   "metadata": {
    "execution": {
     "iopub.execute_input": "2023-07-11T06:23:17.471104Z",
     "iopub.status.busy": "2023-07-11T06:23:17.470550Z",
     "iopub.status.idle": "2023-07-11T06:23:23.259652Z",
     "shell.execute_reply": "2023-07-11T06:23:23.259052Z",
     "shell.execute_reply.started": "2023-07-11T06:23:17.471063Z"
    }
   },
   "outputs": [],
   "source": [
    "%pip install jupysql jupysql-plugin --upgrade --quiet"
   ]
  },
  {
   "attachments": {},
   "cell_type": "markdown",
   "id": "e41a3624",
   "metadata": {},
   "source": [
    "## Set connection\n",
    "\n",
    "After our dataset is ready, we should set our connection.\n",
    "\n",
    "For this demonstration, we'll be using the `DuckDB` connection."
   ]
  },
  {
   "cell_type": "code",
   "execution_count": null,
   "id": "dbe40317",
   "metadata": {
    "execution": {
     "iopub.execute_input": "2023-07-11T06:23:23.261019Z",
     "iopub.status.busy": "2023-07-11T06:23:23.260712Z",
     "iopub.status.idle": "2023-07-11T06:23:24.657106Z",
     "shell.execute_reply": "2023-07-11T06:23:24.656787Z",
     "shell.execute_reply.started": "2023-07-11T06:23:23.261000Z"
    }
   },
   "outputs": [],
   "source": [
    "%load_ext sql\n",
    "%sql duckdb://"
   ]
  },
  {
   "attachments": {},
   "cell_type": "markdown",
   "id": "08358b2d",
   "metadata": {},
   "source": [
    "## Create the table\n",
    "\n",
    "To create the table, use the `explore` attribute and specify the name of the table that was just downloaded."
   ]
  },
  {
   "cell_type": "code",
   "execution_count": null,
   "id": "7e6c6c7d",
   "metadata": {
    "execution": {
     "iopub.execute_input": "2023-07-11T06:23:24.658219Z",
     "iopub.status.busy": "2023-07-11T06:23:24.658067Z",
     "iopub.status.idle": "2023-07-11T06:23:25.148417Z",
     "shell.execute_reply": "2023-07-11T06:23:25.147446Z",
     "shell.execute_reply.started": "2023-07-11T06:23:24.658210Z"
    }
   },
   "outputs": [],
   "source": [
    "%sqlcmd explore --table \"yellow_tripdata_2021.parquet\""
   ]
  },
  {
   "attachments": {},
   "cell_type": "markdown",
   "id": "23b547b7",
   "metadata": {},
   "source": [
    "See interactive and live example on [Binder](https://binder.ploomber.io/v2/gh/ploomber/jupysql/master?urlpath=lab/tree/doc/user-guide/table_explorer.ipynb)."
   ]
  }
 ],
 "metadata": {
  "jupytext": {
   "notebook_metadata_filter": "myst"
  },
  "kernelspec": {
   "display_name": "DeepLearning",
   "language": "python",
   "name": "python3"
  },
  "language_info": {
   "codemirror_mode": {
    "name": "ipython",
    "version": 3
   },
   "file_extension": ".py",
   "mimetype": "text/x-python",
   "name": "python",
   "nbconvert_exporter": "python",
   "pygments_lexer": "ipython3",
   "version": "3.8.10"
  },
  "myst": {
   "html_meta": {
    "description lang=en": "Templatize SQL queries in Jupyter via JupySQL",
    "keywords": "jupyter, sql, jupysql, jinja",
    "property=og:locale": "en_US"
   }
  },
  "vscode": {
   "interpreter": {
    "hash": "b21ff99f06bc5c2ee936cce3a3c0a2d0b63539a7bfe4bc3174f3ebb0cdda9a55"
   }
  }
 },
 "nbformat": 4,
 "nbformat_minor": 5
}
