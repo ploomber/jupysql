{
 "cells": [
  {
   "cell_type": "code",
   "execution_count": 1,
   "id": "1f53d11c-a01b-4967-8c60-c4b49cd38e93",
   "metadata": {
    "execution": {
     "iopub.execute_input": "2023-06-08T15:36:30.692454Z",
     "iopub.status.busy": "2023-06-08T15:36:30.692084Z",
     "iopub.status.idle": "2023-06-08T15:36:31.701257Z",
     "shell.execute_reply": "2023-06-08T15:36:31.700855Z",
     "shell.execute_reply.started": "2023-06-08T15:36:30.692409Z"
    }
   },
   "outputs": [],
   "source": [
    "%load_ext sql"
   ]
  },
  {
   "cell_type": "code",
   "execution_count": 2,
   "id": "d4febaa4-d337-45c9-a485-d3416ddf6067",
   "metadata": {
    "execution": {
     "iopub.execute_input": "2023-06-08T15:36:31.702730Z",
     "iopub.status.busy": "2023-06-08T15:36:31.702538Z",
     "iopub.status.idle": "2023-06-08T15:36:31.861200Z",
     "shell.execute_reply": "2023-06-08T15:36:31.860790Z",
     "shell.execute_reply.started": "2023-06-08T15:36:31.702717Z"
    }
   },
   "outputs": [
    {
     "data": {
      "text/html": [
       "Active connections:\n",
       "<table>\n",
       "    <thead>\n",
       "        <tr>\n",
       "            <th>current</th>\n",
       "            <th>url</th>\n",
       "            <th>alias</th>\n",
       "        </tr>\n",
       "    </thead>\n",
       "    <tbody>\n",
       "    </tbody>\n",
       "</table>"
      ],
      "text/plain": [
       "Active connections:\n",
       "+---------+-----+-------+\n",
       "| current | url | alias |\n",
       "+---------+-----+-------+\n",
       "+---------+-----+-------+"
      ]
     },
     "execution_count": 2,
     "metadata": {},
     "output_type": "execute_result"
    }
   ],
   "source": [
    "%sql --connections"
   ]
  },
  {
   "cell_type": "code",
   "execution_count": 3,
   "id": "3c2a4272-f563-4af2-b4aa-fb7320d94dfe",
   "metadata": {
    "execution": {
     "iopub.execute_input": "2023-06-08T15:36:31.861948Z",
     "iopub.status.busy": "2023-06-08T15:36:31.861821Z",
     "iopub.status.idle": "2023-06-08T15:36:32.103891Z",
     "shell.execute_reply": "2023-06-08T15:36:32.103512Z",
     "shell.execute_reply.started": "2023-06-08T15:36:31.861935Z"
    }
   },
   "outputs": [],
   "source": [
    "%sql duckdb://"
   ]
  },
  {
   "cell_type": "code",
   "execution_count": 4,
   "id": "596b4a3c-ffc7-49b4-8c55-67241142677c",
   "metadata": {
    "execution": {
     "iopub.execute_input": "2023-06-08T15:36:32.106569Z",
     "iopub.status.busy": "2023-06-08T15:36:32.106373Z",
     "iopub.status.idle": "2023-06-08T15:36:32.276934Z",
     "shell.execute_reply": "2023-06-08T15:36:32.276488Z",
     "shell.execute_reply.started": "2023-06-08T15:36:32.106553Z"
    }
   },
   "outputs": [
    {
     "data": {
      "text/html": [
       "Active connections:\n",
       "<table>\n",
       "    <thead>\n",
       "        <tr>\n",
       "            <th>current</th>\n",
       "            <th>url</th>\n",
       "            <th>alias</th>\n",
       "        </tr>\n",
       "    </thead>\n",
       "    <tbody>\n",
       "        <tr>\n",
       "            <td>*</td>\n",
       "            <td>duckdb://</td>\n",
       "            <td></td>\n",
       "        </tr>\n",
       "    </tbody>\n",
       "</table>"
      ],
      "text/plain": [
       "Active connections:\n",
       "+---------+-----------+-------+\n",
       "| current |    url    | alias |\n",
       "+---------+-----------+-------+\n",
       "|    *    | duckdb:// |       |\n",
       "+---------+-----------+-------+"
      ]
     },
     "execution_count": 4,
     "metadata": {},
     "output_type": "execute_result"
    }
   ],
   "source": [
    "%sql --connections"
   ]
  },
  {
   "cell_type": "code",
   "execution_count": 5,
   "id": "f15982b9-1df3-4574-8b83-6784f2394e27",
   "metadata": {
    "execution": {
     "iopub.execute_input": "2023-06-08T15:36:33.060175Z",
     "iopub.status.busy": "2023-06-08T15:36:33.059714Z",
     "iopub.status.idle": "2023-06-08T15:36:33.273862Z",
     "shell.execute_reply": "2023-06-08T15:36:33.273274Z",
     "shell.execute_reply.started": "2023-06-08T15:36:33.060149Z"
    }
   },
   "outputs": [],
   "source": [
    "%sql duckdb:// --alias newconnection"
   ]
  },
  {
   "cell_type": "code",
   "execution_count": 6,
   "id": "e1207e8b-5cff-4afe-bbb8-ea522f606d14",
   "metadata": {
    "execution": {
     "iopub.execute_input": "2023-06-08T15:36:33.723453Z",
     "iopub.status.busy": "2023-06-08T15:36:33.723245Z",
     "iopub.status.idle": "2023-06-08T15:36:33.889884Z",
     "shell.execute_reply": "2023-06-08T15:36:33.889447Z",
     "shell.execute_reply.started": "2023-06-08T15:36:33.723435Z"
    }
   },
   "outputs": [],
   "source": [
    "%sql duckdb:// --alias newconnection_2"
   ]
  },
  {
   "cell_type": "code",
   "execution_count": 7,
   "id": "e59463fb-0a95-4ede-ac1f-fc644cb48251",
   "metadata": {
    "execution": {
     "iopub.execute_input": "2023-06-08T15:36:34.145950Z",
     "iopub.status.busy": "2023-06-08T15:36:34.145364Z",
     "iopub.status.idle": "2023-06-08T15:36:34.385935Z",
     "shell.execute_reply": "2023-06-08T15:36:34.384748Z",
     "shell.execute_reply.started": "2023-06-08T15:36:34.145918Z"
    }
   },
   "outputs": [],
   "source": [
    "%sql duckdb:// "
   ]
  },
  {
   "cell_type": "code",
   "execution_count": 10,
   "id": "088c0751-4bb8-415e-89dc-2747c907f132",
   "metadata": {
    "execution": {
     "iopub.execute_input": "2023-06-08T15:36:42.432389Z",
     "iopub.status.busy": "2023-06-08T15:36:42.431930Z",
     "iopub.status.idle": "2023-06-08T15:36:42.615272Z",
     "shell.execute_reply": "2023-06-08T15:36:42.614546Z",
     "shell.execute_reply.started": "2023-06-08T15:36:42.432361Z"
    }
   },
   "outputs": [
    {
     "data": {
      "text/html": [
       "Active connections:\n",
       "<table>\n",
       "    <thead>\n",
       "        <tr>\n",
       "            <th>current</th>\n",
       "            <th>url</th>\n",
       "            <th>alias</th>\n",
       "        </tr>\n",
       "    </thead>\n",
       "    <tbody>\n",
       "        <tr>\n",
       "            <td></td>\n",
       "            <td>duckdb://</td>\n",
       "            <td></td>\n",
       "        </tr>\n",
       "        <tr>\n",
       "            <td></td>\n",
       "            <td>duckdb://</td>\n",
       "            <td>newconnection</td>\n",
       "        </tr>\n",
       "        <tr>\n",
       "            <td>*</td>\n",
       "            <td>duckdb://</td>\n",
       "            <td>newconnection_2</td>\n",
       "        </tr>\n",
       "    </tbody>\n",
       "</table>"
      ],
      "text/plain": [
       "Active connections:\n",
       "+---------+-----------+-----------------+\n",
       "| current |    url    |      alias      |\n",
       "+---------+-----------+-----------------+\n",
       "|         | duckdb:// |                 |\n",
       "|         | duckdb:// |  newconnection  |\n",
       "|    *    | duckdb:// | newconnection_2 |\n",
       "+---------+-----------+-----------------+"
      ]
     },
     "execution_count": 10,
     "metadata": {},
     "output_type": "execute_result"
    }
   ],
   "source": [
    "%sql --connections\n"
   ]
  },
  {
   "cell_type": "code",
   "execution_count": 9,
   "id": "dab284ba-562b-424b-aa2e-7c438a4a5579",
   "metadata": {
    "execution": {
     "iopub.execute_input": "2023-06-08T15:36:40.385089Z",
     "iopub.status.busy": "2023-06-08T15:36:40.384670Z",
     "iopub.status.idle": "2023-06-08T15:36:40.605190Z",
     "shell.execute_reply": "2023-06-08T15:36:40.604362Z",
     "shell.execute_reply.started": "2023-06-08T15:36:40.385062Z"
    }
   },
   "outputs": [],
   "source": [
    "%sql duckdb:// --alias newconnection_2"
   ]
  },
  {
   "cell_type": "code",
   "execution_count": null,
   "id": "f95c360b-4d37-4536-92d6-1495bd99263b",
   "metadata": {},
   "outputs": [],
   "source": []
  }
 ],
 "metadata": {
  "kernelspec": {
   "display_name": "Python 3 (ipykernel)",
   "language": "python",
   "name": "python3"
  },
  "language_info": {
   "codemirror_mode": {
    "name": "ipython",
    "version": 3
   },
   "file_extension": ".py",
   "mimetype": "text/x-python",
   "name": "python",
   "nbconvert_exporter": "python",
   "pygments_lexer": "ipython3",
   "version": "3.10.11"
  }
 },
 "nbformat": 4,
 "nbformat_minor": 5
}
