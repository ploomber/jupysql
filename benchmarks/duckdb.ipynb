{
 "cells": [
  {
   "attachments": {},
   "cell_type": "markdown",
   "id": "d47c0ad1-d9da-476e-aa51-c0c52e764415",
   "metadata": {
    "user_expressions": []
   },
   "source": [
    "# Native DuckDB vs JupySQL"
   ]
  },
  {
   "cell_type": "code",
   "execution_count": 1,
   "id": "b53a574b",
   "metadata": {},
   "outputs": [
    {
     "name": "stdout",
     "output_type": "stream",
     "text": [
      "Note: you may need to restart the kernel to use updated packages.\n"
     ]
    }
   ],
   "source": [
    "%pip install pandas polars --quiet"
   ]
  },
  {
   "attachments": {},
   "cell_type": "markdown",
   "id": "1b217aea",
   "metadata": {},
   "source": [
    "## Pandas\n",
    "\n",
    "### Native DuckDB"
   ]
  },
  {
   "cell_type": "code",
   "execution_count": 1,
   "id": "4efc1b4d-52ab-482c-a5aa-a237f82f72e4",
   "metadata": {
    "tags": []
   },
   "outputs": [],
   "source": [
    "import duckdb\n",
    "from pandas import DataFrame\n",
    "import numpy as np\n",
    "\n",
    "num_rows = 1_000_000\n",
    "\n",
    "df = DataFrame(np.random.randn(num_rows, 20))"
   ]
  },
  {
   "cell_type": "code",
   "execution_count": 2,
   "id": "9e5d8f89-9e29-4994-a83f-268befd65ea4",
   "metadata": {
    "tags": []
   },
   "outputs": [
    {
     "name": "stdout",
     "output_type": "stream",
     "text": [
      "86.5 ms ± 928 µs per loop (mean ± std. dev. of 7 runs, 10 loops each)\n"
     ]
    }
   ],
   "source": [
    "with duckdb.connect() as con:\n",
    "    %timeit con.sql(\"select * from df\").df()"
   ]
  },
  {
   "cell_type": "markdown",
   "id": "892bc403-4f35-4489-889e-92eb76bda725",
   "metadata": {
    "user_expressions": []
   },
   "source": [
    "### JupySQL"
   ]
  },
  {
   "cell_type": "code",
   "execution_count": 3,
   "id": "8dbc3068-2dcf-4937-81f2-2cfbbefbb4e1",
   "metadata": {
    "tags": []
   },
   "outputs": [],
   "source": [
    "%load_ext sql\n",
    "conn = duckdb.connect()\n",
    "%sql conn --alias duckdb\n",
    "%config SqlMagic.displaycon = False\n",
    "%config SqlMagic.autopandas = True\n",
    "%config SqlMagic.displaylimit = 1"
   ]
  },
  {
   "cell_type": "code",
   "execution_count": 4,
   "id": "c7755eae-1943-4f57-9eb6-cf1354397bde",
   "metadata": {},
   "outputs": [],
   "source": [
    "# %timeit %sql select * from df"
   ]
  },
  {
   "cell_type": "code",
   "execution_count": 5,
   "id": "f1434280-93f5-4693-a106-67ac9ae03fab",
   "metadata": {},
   "outputs": [],
   "source": [
    "from sql.run import run\n",
    "from sql.connection import Connection\n",
    "from unittest.mock import Mock\n",
    "\n",
    "config = Mock()\n",
    "config.autocommit = True\n",
    "config.autolimit = 0"
   ]
  },
  {
   "cell_type": "code",
   "execution_count": 14,
   "id": "8d904cc9-975e-4475-bd52-b4cfa1a303a0",
   "metadata": {},
   "outputs": [],
   "source": [
    "from sql.magic import SqlMagic\n",
    "from IPython import start_ipython, get_ipython\n",
    "import duckdb\n",
    "from pandas import DataFrame\n",
    "import numpy as np\n",
    "\n",
    "num_rows = 1_000_000\n",
    "\n",
    "df = DataFrame(np.random.randn(num_rows, 20))\n",
    "\n",
    "magic = SqlMagic(get_ipython())\n",
    "\n",
    "conn = duckdb.connect()\n",
    "# magic.execute(line=\"conn --alias duckdb\")\n",
    "magic.execute(line=\"duckdb:// --alias duckdb\")\n",
    "magic.autopandas = True\n",
    "magic.displaycon = False\n",
    "\n",
    "\n",
    "def run_magic():\n",
    "    return magic.execute(\"SELECT * FROM df\")"
   ]
  },
  {
   "cell_type": "code",
   "execution_count": 15,
   "id": "ed06bc68-223a-4657-8dfe-4f07d6277b2c",
   "metadata": {},
   "outputs": [
    {
     "name": "stdout",
     "output_type": "stream",
     "text": [
      "3.61 s ± 18.3 ms per loop (mean ± std. dev. of 7 runs, 1 loop each)\n"
     ]
    }
   ],
   "source": [
    "%%timeit\n",
    "run_magic()"
   ]
  },
  {
   "cell_type": "code",
   "execution_count": 9,
   "id": "066fe987-cdd4-4b34-9203-cf58881f34e8",
   "metadata": {},
   "outputs": [
    {
     "name": "stdout",
     "output_type": "stream",
     "text": [
      "82.5 ms ± 1.38 ms per loop (mean ± std. dev. of 7 runs, 10 loops each)\n"
     ]
    }
   ],
   "source": [
    "%%timeit\n",
    "run(Connection.current, \"SELECT * FROM df\", config)"
   ]
  },
  {
   "cell_type": "code",
   "execution_count": 18,
   "id": "7780ab33-56e1-44eb-84ce-887fdb96104a",
   "metadata": {
    "tags": []
   },
   "outputs": [
    {
     "name": "stdout",
     "output_type": "stream",
     "text": [
      "3.45 s ± 21.2 ms per loop (mean ± std. dev. of 7 runs, 1 loop each)\n"
     ]
    }
   ],
   "source": [
    "%%timeit\n",
    "df_ = %sql select * from df\n",
    "df_.DataFrame()"
   ]
  },
  {
   "cell_type": "code",
   "execution_count": 11,
   "id": "d1a0e680-6f2f-4ace-a388-dd14e59dba02",
   "metadata": {},
   "outputs": [],
   "source": [
    "%config SqlMagic.autopandas = False\n",
    "df_ = %sql select * from df"
   ]
  },
  {
   "cell_type": "code",
   "execution_count": 8,
   "id": "2705fec6-27b8-44c0-bf2a-420b35138038",
   "metadata": {},
   "outputs": [
    {
     "name": "stdout",
     "output_type": "stream",
     "text": [
      "86.5 ms ± 1.81 ms per loop (mean ± std. dev. of 7 runs, 10 loops each)\n"
     ]
    }
   ],
   "source": [
    "%%timeit\n",
    "df_.DataFrame()"
   ]
  },
  {
   "cell_type": "code",
   "execution_count": 9,
   "id": "af181428-4586-4c5c-bf01-10ed4be5cff6",
   "metadata": {},
   "outputs": [
    {
     "name": "stdout",
     "output_type": "stream",
     "text": [
      "85.7 ms ± 659 µs per loop (mean ± std. dev. of 7 runs, 10 loops each)\n"
     ]
    }
   ],
   "source": [
    "%%timeit\n",
    "df_.sqlaproxy.execute(df_.statement)\n",
    "df_.sqlaproxy.df()"
   ]
  },
  {
   "cell_type": "code",
   "execution_count": 10,
   "id": "9321e0a8-6f83-4dd4-abff-8dffe958e35b",
   "metadata": {},
   "outputs": [
    {
     "name": "stdout",
     "output_type": "stream",
     "text": [
      "87.1 ms ± 651 µs per loop (mean ± std. dev. of 7 runs, 10 loops each)\n"
     ]
    }
   ],
   "source": [
    "%%timeit\n",
    "df_.sqlaproxy.execute(df_.statement).df()"
   ]
  },
  {
   "cell_type": "markdown",
   "id": "1abcf8ab-0542-43fc-9cac-5ea9363e0827",
   "metadata": {
    "user_expressions": []
   },
   "source": [
    "## Polars\n",
    "\n",
    "### Native DuckDB"
   ]
  },
  {
   "cell_type": "code",
   "execution_count": 11,
   "id": "2ad79efc-aa17-41b1-a34c-fbed807785d5",
   "metadata": {
    "tags": []
   },
   "outputs": [],
   "source": [
    "# import polars as pl\n",
    "\n",
    "# df_pl = pl.DataFrame(np.random.randn(num_rows, 20))"
   ]
  },
  {
   "cell_type": "code",
   "execution_count": 12,
   "id": "38fed499-28c0-4815-8c40-1e38f5c71e69",
   "metadata": {
    "tags": []
   },
   "outputs": [],
   "source": [
    "# with duckdb.connect() as con:\n",
    "#     %timeit con.sql(\"select * from df_pl\").pl()"
   ]
  },
  {
   "cell_type": "markdown",
   "id": "e7fb905f-4a13-4ee4-8150-30ee079e4ec4",
   "metadata": {
    "user_expressions": []
   },
   "source": [
    "### JupySQL"
   ]
  },
  {
   "cell_type": "code",
   "execution_count": 13,
   "id": "bf7ab190-9b21-44bd-9329-9aab5b39a8a3",
   "metadata": {
    "tags": []
   },
   "outputs": [],
   "source": [
    "# %config SqlMagic.autopolars = True"
   ]
  },
  {
   "cell_type": "code",
   "execution_count": 14,
   "id": "53a14724-ffad-461f-aeec-674a59b93a0b",
   "metadata": {
    "tags": []
   },
   "outputs": [],
   "source": [
    "# %%timeit\n",
    "# df_ = %sql select * from df_pl"
   ]
  },
  {
   "cell_type": "code",
   "execution_count": null,
   "id": "66de587a-6111-4ad5-8630-967bb6565e39",
   "metadata": {},
   "outputs": [],
   "source": []
  }
 ],
 "metadata": {
  "kernelspec": {
   "display_name": "Python 3 (ipykernel)",
   "language": "python",
   "name": "python3"
  },
  "language_info": {
   "codemirror_mode": {
    "name": "ipython",
    "version": 3
   },
   "file_extension": ".py",
   "mimetype": "text/x-python",
   "name": "python",
   "nbconvert_exporter": "python",
   "pygments_lexer": "ipython3",
   "version": "3.10.12"
  }
 },
 "nbformat": 4,
 "nbformat_minor": 5
}
